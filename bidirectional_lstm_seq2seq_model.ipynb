{
  "cells": [
    {
      "cell_type": "code",
      "execution_count": null,
      "metadata": {
        "id": "72vC_JRoIfE4"
      },
      "outputs": [],
      "source": [
        "import sys\n",
        "import warnings\n",
        "\n",
        "if not sys.warnoptions:\n",
        "    warnings.simplefilter('ignore')"
      ]
    },
    {
      "cell_type": "code",
      "source": [
        "%tensorflow_version 1.x"
      ],
      "metadata": {
        "colab": {
          "base_uri": "https://localhost:8080/"
        },
        "id": "FqWj7EZqJuBR",
        "outputId": "bdb6d22b-3331-42fe-d407-61e747b563e8"
      },
      "execution_count": null,
      "outputs": [
        {
          "output_type": "stream",
          "name": "stdout",
          "text": [
            "TensorFlow 1.x selected.\n"
          ]
        }
      ]
    },
    {
      "cell_type": "code",
      "execution_count": null,
      "metadata": {
        "id": "XHHOWygcIfE6"
      },
      "outputs": [],
      "source": [
        "import tensorflow as tf\n",
        "import numpy as np\n",
        "import matplotlib.pyplot as plt\n",
        "import seaborn as sns\n",
        "import pandas as pd\n",
        "from sklearn.preprocessing import MinMaxScaler\n",
        "from datetime import datetime\n",
        "from datetime import timedelta\n",
        "from tqdm import tqdm\n",
        "sns.set()\n",
        "tf.compat.v1.random.set_random_seed(1234)"
      ]
    },
    {
      "cell_type": "code",
      "source": [
        "!pip install --upgrade pandas-datareader"
      ],
      "metadata": {
        "colab": {
          "base_uri": "https://localhost:8080/"
        },
        "id": "_LqFPuAZIyz2",
        "outputId": "3f40460e-4002-4ea7-fbe7-59d841a6a131"
      },
      "execution_count": null,
      "outputs": [
        {
          "output_type": "stream",
          "name": "stdout",
          "text": [
            "Requirement already satisfied: pandas-datareader in /usr/local/lib/python3.7/dist-packages (0.9.0)\n",
            "Collecting pandas-datareader\n",
            "  Downloading pandas_datareader-0.10.0-py3-none-any.whl (109 kB)\n",
            "\u001b[K     |████████████████████████████████| 109 kB 4.6 MB/s \n",
            "\u001b[?25hRequirement already satisfied: pandas>=0.23 in /usr/local/lib/python3.7/dist-packages (from pandas-datareader) (1.3.5)\n",
            "Requirement already satisfied: lxml in /usr/local/lib/python3.7/dist-packages (from pandas-datareader) (4.2.6)\n",
            "Requirement already satisfied: requests>=2.19.0 in /usr/local/lib/python3.7/dist-packages (from pandas-datareader) (2.23.0)\n",
            "Requirement already satisfied: numpy>=1.17.3 in /usr/local/lib/python3.7/dist-packages (from pandas>=0.23->pandas-datareader) (1.21.6)\n",
            "Requirement already satisfied: python-dateutil>=2.7.3 in /usr/local/lib/python3.7/dist-packages (from pandas>=0.23->pandas-datareader) (2.8.2)\n",
            "Requirement already satisfied: pytz>=2017.3 in /usr/local/lib/python3.7/dist-packages (from pandas>=0.23->pandas-datareader) (2022.1)\n",
            "Requirement already satisfied: six>=1.5 in /usr/local/lib/python3.7/dist-packages (from python-dateutil>=2.7.3->pandas>=0.23->pandas-datareader) (1.15.0)\n",
            "Requirement already satisfied: idna<3,>=2.5 in /usr/local/lib/python3.7/dist-packages (from requests>=2.19.0->pandas-datareader) (2.10)\n",
            "Requirement already satisfied: urllib3!=1.25.0,!=1.25.1,<1.26,>=1.21.1 in /usr/local/lib/python3.7/dist-packages (from requests>=2.19.0->pandas-datareader) (1.24.3)\n",
            "Requirement already satisfied: certifi>=2017.4.17 in /usr/local/lib/python3.7/dist-packages (from requests>=2.19.0->pandas-datareader) (2021.10.8)\n",
            "Requirement already satisfied: chardet<4,>=3.0.2 in /usr/local/lib/python3.7/dist-packages (from requests>=2.19.0->pandas-datareader) (3.0.4)\n",
            "Installing collected packages: pandas-datareader\n",
            "  Attempting uninstall: pandas-datareader\n",
            "    Found existing installation: pandas-datareader 0.9.0\n",
            "    Uninstalling pandas-datareader-0.9.0:\n",
            "      Successfully uninstalled pandas-datareader-0.9.0\n",
            "Successfully installed pandas-datareader-0.10.0\n"
          ]
        }
      ]
    },
    {
      "cell_type": "code",
      "source": [
        "import pandas_datareader as pdr\n",
        "\n",
        "start = '2020-9-30'\n",
        "end = '2021-9-30'\n",
        "ticker = 'PYPL'\n",
        "df = pdr.data.DataReader(ticker, start=start, end=end, data_source='yahoo')"
      ],
      "metadata": {
        "id": "BnmFfgSvI4Ej"
      },
      "execution_count": null,
      "outputs": []
    },
    {
      "cell_type": "code",
      "execution_count": null,
      "metadata": {
        "id": "v5Rb9SPNIfE7"
      },
      "outputs": [],
      "source": [
        "df.reset_index(inplace = True)"
      ]
    },
    {
      "cell_type": "code",
      "source": [
        ""
      ],
      "metadata": {
        "id": "3W1jAGVrqeZ3"
      },
      "execution_count": null,
      "outputs": []
    },
    {
      "cell_type": "code",
      "execution_count": null,
      "metadata": {
        "colab": {
          "base_uri": "https://localhost:8080/",
          "height": 206
        },
        "id": "nQ-TpMmHIfE8",
        "outputId": "7616d730-b295-4062-961c-f5d885916971"
      },
      "outputs": [
        {
          "output_type": "execute_result",
          "data": {
            "text/plain": [
              "          0\n",
              "0  0.133779\n",
              "1  0.133080\n",
              "2  0.094002\n",
              "3  0.132380\n",
              "4  0.092060"
            ],
            "text/html": [
              "\n",
              "  <div id=\"df-b01c9109-bad4-4c06-890d-660ac377104a\">\n",
              "    <div class=\"colab-df-container\">\n",
              "      <div>\n",
              "<style scoped>\n",
              "    .dataframe tbody tr th:only-of-type {\n",
              "        vertical-align: middle;\n",
              "    }\n",
              "\n",
              "    .dataframe tbody tr th {\n",
              "        vertical-align: top;\n",
              "    }\n",
              "\n",
              "    .dataframe thead th {\n",
              "        text-align: right;\n",
              "    }\n",
              "</style>\n",
              "<table border=\"1\" class=\"dataframe\">\n",
              "  <thead>\n",
              "    <tr style=\"text-align: right;\">\n",
              "      <th></th>\n",
              "      <th>0</th>\n",
              "    </tr>\n",
              "  </thead>\n",
              "  <tbody>\n",
              "    <tr>\n",
              "      <th>0</th>\n",
              "      <td>0.133779</td>\n",
              "    </tr>\n",
              "    <tr>\n",
              "      <th>1</th>\n",
              "      <td>0.133080</td>\n",
              "    </tr>\n",
              "    <tr>\n",
              "      <th>2</th>\n",
              "      <td>0.094002</td>\n",
              "    </tr>\n",
              "    <tr>\n",
              "      <th>3</th>\n",
              "      <td>0.132380</td>\n",
              "    </tr>\n",
              "    <tr>\n",
              "      <th>4</th>\n",
              "      <td>0.092060</td>\n",
              "    </tr>\n",
              "  </tbody>\n",
              "</table>\n",
              "</div>\n",
              "      <button class=\"colab-df-convert\" onclick=\"convertToInteractive('df-b01c9109-bad4-4c06-890d-660ac377104a')\"\n",
              "              title=\"Convert this dataframe to an interactive table.\"\n",
              "              style=\"display:none;\">\n",
              "        \n",
              "  <svg xmlns=\"http://www.w3.org/2000/svg\" height=\"24px\"viewBox=\"0 0 24 24\"\n",
              "       width=\"24px\">\n",
              "    <path d=\"M0 0h24v24H0V0z\" fill=\"none\"/>\n",
              "    <path d=\"M18.56 5.44l.94 2.06.94-2.06 2.06-.94-2.06-.94-.94-2.06-.94 2.06-2.06.94zm-11 1L8.5 8.5l.94-2.06 2.06-.94-2.06-.94L8.5 2.5l-.94 2.06-2.06.94zm10 10l.94 2.06.94-2.06 2.06-.94-2.06-.94-.94-2.06-.94 2.06-2.06.94z\"/><path d=\"M17.41 7.96l-1.37-1.37c-.4-.4-.92-.59-1.43-.59-.52 0-1.04.2-1.43.59L10.3 9.45l-7.72 7.72c-.78.78-.78 2.05 0 2.83L4 21.41c.39.39.9.59 1.41.59.51 0 1.02-.2 1.41-.59l7.78-7.78 2.81-2.81c.8-.78.8-2.07 0-2.86zM5.41 20L4 18.59l7.72-7.72 1.47 1.35L5.41 20z\"/>\n",
              "  </svg>\n",
              "      </button>\n",
              "      \n",
              "  <style>\n",
              "    .colab-df-container {\n",
              "      display:flex;\n",
              "      flex-wrap:wrap;\n",
              "      gap: 12px;\n",
              "    }\n",
              "\n",
              "    .colab-df-convert {\n",
              "      background-color: #E8F0FE;\n",
              "      border: none;\n",
              "      border-radius: 50%;\n",
              "      cursor: pointer;\n",
              "      display: none;\n",
              "      fill: #1967D2;\n",
              "      height: 32px;\n",
              "      padding: 0 0 0 0;\n",
              "      width: 32px;\n",
              "    }\n",
              "\n",
              "    .colab-df-convert:hover {\n",
              "      background-color: #E2EBFA;\n",
              "      box-shadow: 0px 1px 2px rgba(60, 64, 67, 0.3), 0px 1px 3px 1px rgba(60, 64, 67, 0.15);\n",
              "      fill: #174EA6;\n",
              "    }\n",
              "\n",
              "    [theme=dark] .colab-df-convert {\n",
              "      background-color: #3B4455;\n",
              "      fill: #D2E3FC;\n",
              "    }\n",
              "\n",
              "    [theme=dark] .colab-df-convert:hover {\n",
              "      background-color: #434B5C;\n",
              "      box-shadow: 0px 1px 3px 1px rgba(0, 0, 0, 0.15);\n",
              "      filter: drop-shadow(0px 1px 2px rgba(0, 0, 0, 0.3));\n",
              "      fill: #FFFFFF;\n",
              "    }\n",
              "  </style>\n",
              "\n",
              "      <script>\n",
              "        const buttonEl =\n",
              "          document.querySelector('#df-b01c9109-bad4-4c06-890d-660ac377104a button.colab-df-convert');\n",
              "        buttonEl.style.display =\n",
              "          google.colab.kernel.accessAllowed ? 'block' : 'none';\n",
              "\n",
              "        async function convertToInteractive(key) {\n",
              "          const element = document.querySelector('#df-b01c9109-bad4-4c06-890d-660ac377104a');\n",
              "          const dataTable =\n",
              "            await google.colab.kernel.invokeFunction('convertToInteractive',\n",
              "                                                     [key], {});\n",
              "          if (!dataTable) return;\n",
              "\n",
              "          const docLinkHtml = 'Like what you see? Visit the ' +\n",
              "            '<a target=\"_blank\" href=https://colab.research.google.com/notebooks/data_table.ipynb>data table notebook</a>'\n",
              "            + ' to learn more about interactive tables.';\n",
              "          element.innerHTML = '';\n",
              "          dataTable['output_type'] = 'display_data';\n",
              "          await google.colab.output.renderOutput(dataTable, element);\n",
              "          const docLink = document.createElement('div');\n",
              "          docLink.innerHTML = docLinkHtml;\n",
              "          element.appendChild(docLink);\n",
              "        }\n",
              "      </script>\n",
              "    </div>\n",
              "  </div>\n",
              "  "
            ]
          },
          "metadata": {},
          "execution_count": 21
        }
      ],
      "source": [
        "minmax = MinMaxScaler().fit(df.iloc[:, 4:5].astype('float32')) # Close index\n",
        "df_log = minmax.transform(df.iloc[:, 4:5].astype('float32')) # Close index\n",
        "df_log = pd.DataFrame(df_log)\n",
        "df_log.head()"
      ]
    },
    {
      "cell_type": "markdown",
      "metadata": {
        "id": "7_9UWHb7IfE9"
      },
      "source": [
        "## Split train and test\n",
        "\n",
        "I will cut the dataset to train and test datasets,\n",
        "\n",
        "1. Train dataset derived from starting timestamp until last 30 days\n",
        "2. Test dataset derived from last 30 days until end of the dataset\n",
        "\n",
        "So we will let the model do forecasting based on last 30 days, and we will going to repeat the experiment for 10 times. You can increase it locally if you want, and tuning parameters will help you by a lot."
      ]
    },
    {
      "cell_type": "code",
      "execution_count": null,
      "metadata": {
        "colab": {
          "base_uri": "https://localhost:8080/"
        },
        "id": "u6q1EUu2IfE-",
        "outputId": "e4ce8866-ada7-4cee-9a54-015bd20ca8a9"
      },
      "outputs": [
        {
          "output_type": "execute_result",
          "data": {
            "text/plain": [
              "((253, 7), (223, 1), (30, 1))"
            ]
          },
          "metadata": {},
          "execution_count": 22
        }
      ],
      "source": [
        "test_size = 30\n",
        "simulation_size = 10\n",
        "\n",
        "df_train = df_log.iloc[:-test_size]\n",
        "df_test = df_log.iloc[-test_size:]\n",
        "df.shape, df_train.shape, df_test.shape"
      ]
    },
    {
      "cell_type": "code",
      "execution_count": null,
      "metadata": {
        "id": "JPvQogBgIfE_"
      },
      "outputs": [],
      "source": [
        "class Model:\n",
        "    def __init__(\n",
        "        self,\n",
        "        learning_rate,\n",
        "        num_layers,\n",
        "        size,\n",
        "        size_layer,\n",
        "        output_size,\n",
        "        forget_bias = 0.1,\n",
        "    ):\n",
        "        def lstm_cell(size_layer):\n",
        "            return tf.nn.rnn_cell.LSTMCell(size_layer, state_is_tuple = False)\n",
        "\n",
        "        backward_rnn_cells = tf.nn.rnn_cell.MultiRNNCell(\n",
        "            [lstm_cell(size_layer) for _ in range(num_layers)],\n",
        "            state_is_tuple = False,\n",
        "        )\n",
        "        forward_rnn_cells = tf.nn.rnn_cell.MultiRNNCell(\n",
        "            [lstm_cell(size_layer) for _ in range(num_layers)],\n",
        "            state_is_tuple = False,\n",
        "        )\n",
        "        self.X = tf.placeholder(tf.float32, (None, None, size))\n",
        "        self.Y = tf.placeholder(tf.float32, (None, output_size))\n",
        "        drop_backward = tf.contrib.rnn.DropoutWrapper(\n",
        "            backward_rnn_cells, output_keep_prob = forget_bias\n",
        "        )\n",
        "        forward_backward = tf.contrib.rnn.DropoutWrapper(\n",
        "            forward_rnn_cells, output_keep_prob = forget_bias\n",
        "        )\n",
        "        self.backward_hidden_layer = tf.placeholder(\n",
        "            tf.float32, shape = (None, num_layers * 2 * size_layer)\n",
        "        )\n",
        "        self.forward_hidden_layer = tf.placeholder(\n",
        "            tf.float32, shape = (None, num_layers * 2 * size_layer)\n",
        "        )\n",
        "        _, last_state = tf.nn.bidirectional_dynamic_rnn(\n",
        "            forward_backward,\n",
        "            drop_backward,\n",
        "            self.X,\n",
        "            initial_state_fw = self.forward_hidden_layer,\n",
        "            initial_state_bw = self.backward_hidden_layer,\n",
        "            dtype = tf.float32,\n",
        "        )\n",
        "        \n",
        "        with tf.variable_scope('decoder', reuse = False):\n",
        "            backward_rnn_cells_decoder = tf.nn.rnn_cell.MultiRNNCell(\n",
        "            [lstm_cell(size_layer) for _ in range(num_layers)],\n",
        "            state_is_tuple = False,\n",
        "            )\n",
        "            forward_rnn_cells_decoder = tf.nn.rnn_cell.MultiRNNCell(\n",
        "                [lstm_cell(size_layer) for _ in range(num_layers)],\n",
        "                state_is_tuple = False,\n",
        "            )\n",
        "            drop_backward_decoder = tf.contrib.rnn.DropoutWrapper(\n",
        "            backward_rnn_cells_decoder, output_keep_prob = forget_bias\n",
        "            )\n",
        "            forward_backward_decoder = tf.contrib.rnn.DropoutWrapper(\n",
        "                forward_rnn_cells_decoder, output_keep_prob = forget_bias\n",
        "            )\n",
        "            self.outputs, self.last_state = tf.nn.bidirectional_dynamic_rnn(\n",
        "                forward_backward_decoder, drop_backward_decoder, self.X, \n",
        "                initial_state_fw = last_state[0],\n",
        "                initial_state_bw = last_state[1],\n",
        "                dtype = tf.float32\n",
        "            )\n",
        "        self.outputs = tf.concat(self.outputs, 2)\n",
        "        self.logits = tf.layers.dense(self.outputs[-1], output_size)\n",
        "        self.cost = tf.reduce_mean(tf.square(self.Y - self.logits))\n",
        "        self.optimizer = tf.train.AdamOptimizer(learning_rate).minimize(\n",
        "            self.cost\n",
        "        )\n",
        "        \n",
        "def calculate_accuracy(real, predict):\n",
        "    real = np.array(real) + 1\n",
        "    predict = np.array(predict) + 1\n",
        "    percentage = 1 - np.sqrt(np.mean(np.square((real - predict) / real)))\n",
        "    return percentage * 100\n",
        "\n",
        "def anchor(signal, weight):\n",
        "    buffer = []\n",
        "    last = signal[0]\n",
        "    for i in signal:\n",
        "        smoothed_val = last * weight + (1 - weight) * i\n",
        "        buffer.append(smoothed_val)\n",
        "        last = smoothed_val\n",
        "    return buffer"
      ]
    },
    {
      "cell_type": "code",
      "execution_count": null,
      "metadata": {
        "id": "ncJ45t2_IfFA"
      },
      "outputs": [],
      "source": [
        "num_layers = 1\n",
        "size_layer = 128\n",
        "timestamp = 5\n",
        "epoch = 300\n",
        "dropout_rate = 0.8\n",
        "future_day = test_size\n",
        "learning_rate = 0.01"
      ]
    },
    {
      "cell_type": "code",
      "execution_count": null,
      "metadata": {
        "id": "MyPBXZd9IfFB"
      },
      "outputs": [],
      "source": [
        "def forecast():\n",
        "    tf.reset_default_graph()\n",
        "    modelnn = Model(\n",
        "        learning_rate, num_layers, df_log.shape[1], size_layer, df_log.shape[1], dropout_rate\n",
        "    )\n",
        "    sess = tf.InteractiveSession()\n",
        "    sess.run(tf.global_variables_initializer())\n",
        "    date_ori = pd.to_datetime(df.iloc[:, 0]).tolist()\n",
        "\n",
        "    pbar = tqdm(range(epoch), desc = 'train loop')\n",
        "    for i in pbar:\n",
        "        init_value_forward = np.zeros((1, num_layers * 2 * size_layer))\n",
        "        init_value_backward = np.zeros((1, num_layers * 2 * size_layer))\n",
        "        total_loss, total_acc = [], []\n",
        "        for k in range(0, df_train.shape[0] - 1, timestamp):\n",
        "            index = min(k + timestamp, df_train.shape[0] - 1)\n",
        "            batch_x = np.expand_dims(\n",
        "                df_train.iloc[k : index, :].values, axis = 0\n",
        "            )\n",
        "            batch_y = df_train.iloc[k + 1 : index + 1, :].values\n",
        "            logits, last_state, _, loss = sess.run(\n",
        "                [modelnn.logits, modelnn.last_state, modelnn.optimizer, modelnn.cost],\n",
        "                feed_dict = {\n",
        "                    modelnn.X: batch_x,\n",
        "                    modelnn.Y: batch_y,\n",
        "                    modelnn.backward_hidden_layer: init_value_backward,\n",
        "                    modelnn.forward_hidden_layer: init_value_forward,\n",
        "                },\n",
        "            )        \n",
        "            init_value_forward = last_state[0]\n",
        "            init_value_backward = last_state[1]\n",
        "            total_loss.append(loss)\n",
        "            total_acc.append(calculate_accuracy(batch_y[:, 0], logits[:, 0]))\n",
        "        pbar.set_postfix(cost = np.mean(total_loss), acc = np.mean(total_acc))\n",
        "    \n",
        "    future_day = test_size\n",
        "\n",
        "    output_predict = np.zeros((df_train.shape[0] + future_day, df_train.shape[1]))\n",
        "    output_predict[0] = df_train.iloc[0]\n",
        "    upper_b = (df_train.shape[0] // timestamp) * timestamp\n",
        "    init_value_forward = np.zeros((1, num_layers * 2 * size_layer))\n",
        "    init_value_backward = np.zeros((1, num_layers * 2 * size_layer))\n",
        "\n",
        "    for k in range(0, (df_train.shape[0] // timestamp) * timestamp, timestamp):\n",
        "        out_logits, last_state = sess.run(\n",
        "            [modelnn.logits, modelnn.last_state],\n",
        "            feed_dict = {\n",
        "                modelnn.X: np.expand_dims(\n",
        "                    df_train.iloc[k : k + timestamp], axis = 0\n",
        "                ),\n",
        "                modelnn.backward_hidden_layer: init_value_backward,\n",
        "                modelnn.forward_hidden_layer: init_value_forward,\n",
        "            },\n",
        "        )\n",
        "        init_value_forward = last_state[0]\n",
        "        init_value_backward = last_state[1]\n",
        "        output_predict[k + 1 : k + timestamp + 1] = out_logits\n",
        "\n",
        "    if upper_b != df_train.shape[0]:\n",
        "        out_logits, last_state = sess.run(\n",
        "            [modelnn.logits, modelnn.last_state],\n",
        "            feed_dict = {\n",
        "                modelnn.X: np.expand_dims(df_train.iloc[upper_b:], axis = 0),\n",
        "                modelnn.backward_hidden_layer: init_value_backward,\n",
        "                modelnn.forward_hidden_layer: init_value_forward,\n",
        "            },\n",
        "        )\n",
        "        output_predict[upper_b + 1 : df_train.shape[0] + 1] = out_logits\n",
        "        future_day -= 1\n",
        "        date_ori.append(date_ori[-1] + timedelta(days = 1))\n",
        "\n",
        "    init_value_forward = last_state[0]\n",
        "    init_value_backward = last_state[1]\n",
        "    \n",
        "    for i in range(future_day):\n",
        "        o = output_predict[-future_day - timestamp + i:-future_day + i]\n",
        "        out_logits, last_state = sess.run(\n",
        "            [modelnn.logits, modelnn.last_state],\n",
        "            feed_dict = {\n",
        "                modelnn.X: np.expand_dims(o, axis = 0),\n",
        "                modelnn.backward_hidden_layer: init_value_backward,\n",
        "                modelnn.forward_hidden_layer: init_value_forward,\n",
        "            },\n",
        "        )\n",
        "        init_value_forward = last_state[0]\n",
        "        init_value_backward = last_state[1]\n",
        "        output_predict[-future_day + i] = out_logits[-1]\n",
        "        date_ori.append(date_ori[-1] + timedelta(days = 1))\n",
        "    \n",
        "    output_predict = minmax.inverse_transform(output_predict)\n",
        "    deep_future = anchor(output_predict[:, 0], 0.3)\n",
        "    \n",
        "    return deep_future[-test_size:]"
      ]
    },
    {
      "cell_type": "code",
      "source": [
        ""
      ],
      "metadata": {
        "id": "8TXURGo7tPIP"
      },
      "execution_count": null,
      "outputs": []
    },
    {
      "cell_type": "code",
      "execution_count": null,
      "metadata": {
        "colab": {
          "base_uri": "https://localhost:8080/"
        },
        "id": "qTVvSZx1IfFC",
        "outputId": "72721639-fb1b-4b03-c5d8-0d6862d866be"
      },
      "outputs": [
        {
          "metadata": {
            "tags": null
          },
          "name": "stdout",
          "output_type": "stream",
          "text": [
            "simulation 1\n",
            "WARNING:tensorflow:<tensorflow.python.ops.rnn_cell_impl.LSTMCell object at 0x7f35c46a6fd0>: Using a concatenated state is slower and will soon be deprecated.  Use state_is_tuple=True.\n",
            "WARNING:tensorflow:<tensorflow.python.ops.rnn_cell_impl.LSTMCell object at 0x7f35c468d8d0>: Using a concatenated state is slower and will soon be deprecated.  Use state_is_tuple=True.\n",
            "WARNING:tensorflow:<tensorflow.python.ops.rnn_cell_impl.LSTMCell object at 0x7f35c46aa7d0>: Using a concatenated state is slower and will soon be deprecated.  Use state_is_tuple=True.\n",
            "WARNING:tensorflow:<tensorflow.python.ops.rnn_cell_impl.LSTMCell object at 0x7f35c4449d10>: Using a concatenated state is slower and will soon be deprecated.  Use state_is_tuple=True.\n"
          ]
        },
        {
          "metadata": {
            "tags": null
          },
          "name": "stderr",
          "output_type": "stream",
          "text": [
            "/tensorflow-1.15.2/python3.7/tensorflow_core/python/client/session.py:1750: UserWarning: An interactive session is already active. This can cause out-of-memory errors in some cases. You must explicitly call `InteractiveSession.close()` to release resources held by the other session(s).\n",
            "  warnings.warn('An interactive session is already active. This can '\n",
            "train loop: 100%|██████████| 300/300 [06:50<00:00,  1.37s/it, acc=98.4, cost=0.000647]\n"
          ]
        },
        {
          "metadata": {
            "tags": null
          },
          "name": "stdout",
          "output_type": "stream",
          "text": [
            "simulation 2\n",
            "WARNING:tensorflow:<tensorflow.python.ops.rnn_cell_impl.LSTMCell object at 0x7f35c468d310>: Using a concatenated state is slower and will soon be deprecated.  Use state_is_tuple=True.\n",
            "WARNING:tensorflow:<tensorflow.python.ops.rnn_cell_impl.LSTMCell object at 0x7f35c4033410>: Using a concatenated state is slower and will soon be deprecated.  Use state_is_tuple=True.\n",
            "WARNING:tensorflow:<tensorflow.python.ops.rnn_cell_impl.LSTMCell object at 0x7f35c3feeb90>: Using a concatenated state is slower and will soon be deprecated.  Use state_is_tuple=True.\n",
            "WARNING:tensorflow:<tensorflow.python.ops.rnn_cell_impl.LSTMCell object at 0x7f35c2757dd0>: Using a concatenated state is slower and will soon be deprecated.  Use state_is_tuple=True.\n"
          ]
        },
        {
          "metadata": {
            "tags": null
          },
          "name": "stderr",
          "output_type": "stream",
          "text": [
            "/tensorflow-1.15.2/python3.7/tensorflow_core/python/client/session.py:1750: UserWarning: An interactive session is already active. This can cause out-of-memory errors in some cases. You must explicitly call `InteractiveSession.close()` to release resources held by the other session(s).\n",
            "  warnings.warn('An interactive session is already active. This can '\n",
            "train loop: 100%|██████████| 300/300 [06:56<00:00,  1.39s/it, acc=98.6, cost=0.000482]\n"
          ]
        },
        {
          "metadata": {
            "tags": null
          },
          "name": "stdout",
          "output_type": "stream",
          "text": [
            "simulation 3\n",
            "WARNING:tensorflow:<tensorflow.python.ops.rnn_cell_impl.LSTMCell object at 0x7f35c27615d0>: Using a concatenated state is slower and will soon be deprecated.  Use state_is_tuple=True.\n",
            "WARNING:tensorflow:<tensorflow.python.ops.rnn_cell_impl.LSTMCell object at 0x7f35c2623e50>: Using a concatenated state is slower and will soon be deprecated.  Use state_is_tuple=True.\n",
            "WARNING:tensorflow:<tensorflow.python.ops.rnn_cell_impl.LSTMCell object at 0x7f35c08d54d0>: Using a concatenated state is slower and will soon be deprecated.  Use state_is_tuple=True.\n",
            "WARNING:tensorflow:<tensorflow.python.ops.rnn_cell_impl.LSTMCell object at 0x7f35c2128350>: Using a concatenated state is slower and will soon be deprecated.  Use state_is_tuple=True.\n"
          ]
        },
        {
          "metadata": {
            "tags": null
          },
          "name": "stderr",
          "output_type": "stream",
          "text": [
            "/tensorflow-1.15.2/python3.7/tensorflow_core/python/client/session.py:1750: UserWarning: An interactive session is already active. This can cause out-of-memory errors in some cases. You must explicitly call `InteractiveSession.close()` to release resources held by the other session(s).\n",
            "  warnings.warn('An interactive session is already active. This can '\n",
            "train loop: 100%|██████████| 300/300 [06:54<00:00,  1.38s/it, acc=97.7, cost=0.00121]\n"
          ]
        },
        {
          "metadata": {
            "tags": null
          },
          "name": "stdout",
          "output_type": "stream",
          "text": [
            "simulation 4\n",
            "WARNING:tensorflow:<tensorflow.python.ops.rnn_cell_impl.LSTMCell object at 0x7f35c2151810>: Using a concatenated state is slower and will soon be deprecated.  Use state_is_tuple=True.\n",
            "WARNING:tensorflow:<tensorflow.python.ops.rnn_cell_impl.LSTMCell object at 0x7f35c0357850>: Using a concatenated state is slower and will soon be deprecated.  Use state_is_tuple=True.\n",
            "WARNING:tensorflow:<tensorflow.python.ops.rnn_cell_impl.LSTMCell object at 0x7f35c036ec10>: Using a concatenated state is slower and will soon be deprecated.  Use state_is_tuple=True.\n",
            "WARNING:tensorflow:<tensorflow.python.ops.rnn_cell_impl.LSTMCell object at 0x7f35c036c050>: Using a concatenated state is slower and will soon be deprecated.  Use state_is_tuple=True.\n"
          ]
        },
        {
          "metadata": {
            "tags": null
          },
          "name": "stderr",
          "output_type": "stream",
          "text": [
            "/tensorflow-1.15.2/python3.7/tensorflow_core/python/client/session.py:1750: UserWarning: An interactive session is already active. This can cause out-of-memory errors in some cases. You must explicitly call `InteractiveSession.close()` to release resources held by the other session(s).\n",
            "  warnings.warn('An interactive session is already active. This can '\n",
            "train loop: 100%|██████████| 300/300 [06:49<00:00,  1.36s/it, acc=97.9, cost=0.00127]\n"
          ]
        },
        {
          "metadata": {
            "tags": null
          },
          "name": "stdout",
          "output_type": "stream",
          "text": [
            "simulation 5\n",
            "WARNING:tensorflow:<tensorflow.python.ops.rnn_cell_impl.LSTMCell object at 0x7f35c3fcbc50>: Using a concatenated state is slower and will soon be deprecated.  Use state_is_tuple=True.\n",
            "WARNING:tensorflow:<tensorflow.python.ops.rnn_cell_impl.LSTMCell object at 0x7f35c0714990>: Using a concatenated state is slower and will soon be deprecated.  Use state_is_tuple=True.\n",
            "WARNING:tensorflow:<tensorflow.python.ops.rnn_cell_impl.LSTMCell object at 0x7f35be443b50>: Using a concatenated state is slower and will soon be deprecated.  Use state_is_tuple=True.\n",
            "WARNING:tensorflow:<tensorflow.python.ops.rnn_cell_impl.LSTMCell object at 0x7f35be4433d0>: Using a concatenated state is slower and will soon be deprecated.  Use state_is_tuple=True.\n"
          ]
        },
        {
          "metadata": {
            "tags": null
          },
          "name": "stderr",
          "output_type": "stream",
          "text": [
            "/tensorflow-1.15.2/python3.7/tensorflow_core/python/client/session.py:1750: UserWarning: An interactive session is already active. This can cause out-of-memory errors in some cases. You must explicitly call `InteractiveSession.close()` to release resources held by the other session(s).\n",
            "  warnings.warn('An interactive session is already active. This can '\n",
            "train loop: 100%|██████████| 300/300 [06:42<00:00,  1.34s/it, acc=97.6, cost=0.00156]\n"
          ]
        },
        {
          "metadata": {
            "tags": null
          },
          "name": "stdout",
          "output_type": "stream",
          "text": [
            "simulation 6\n",
            "WARNING:tensorflow:<tensorflow.python.ops.rnn_cell_impl.LSTMCell object at 0x7f35be439b90>: Using a concatenated state is slower and will soon be deprecated.  Use state_is_tuple=True.\n",
            "WARNING:tensorflow:<tensorflow.python.ops.rnn_cell_impl.LSTMCell object at 0x7f35bc57cbd0>: Using a concatenated state is slower and will soon be deprecated.  Use state_is_tuple=True.\n",
            "WARNING:tensorflow:<tensorflow.python.ops.rnn_cell_impl.LSTMCell object at 0x7f35bc5a12d0>: Using a concatenated state is slower and will soon be deprecated.  Use state_is_tuple=True.\n",
            "WARNING:tensorflow:<tensorflow.python.ops.rnn_cell_impl.LSTMCell object at 0x7f35bad15550>: Using a concatenated state is slower and will soon be deprecated.  Use state_is_tuple=True.\n"
          ]
        },
        {
          "metadata": {
            "tags": null
          },
          "name": "stderr",
          "output_type": "stream",
          "text": [
            "/tensorflow-1.15.2/python3.7/tensorflow_core/python/client/session.py:1750: UserWarning: An interactive session is already active. This can cause out-of-memory errors in some cases. You must explicitly call `InteractiveSession.close()` to release resources held by the other session(s).\n",
            "  warnings.warn('An interactive session is already active. This can '\n",
            "train loop: 100%|██████████| 300/300 [06:06<00:00,  1.22s/it, acc=97.6, cost=0.0016]\n"
          ]
        },
        {
          "metadata": {
            "tags": null
          },
          "name": "stdout",
          "output_type": "stream",
          "text": [
            "simulation 7\n",
            "WARNING:tensorflow:<tensorflow.python.ops.rnn_cell_impl.LSTMCell object at 0x7f35bc583950>: Using a concatenated state is slower and will soon be deprecated.  Use state_is_tuple=True.\n",
            "WARNING:tensorflow:<tensorflow.python.ops.rnn_cell_impl.LSTMCell object at 0x7f35ba6cdc10>: Using a concatenated state is slower and will soon be deprecated.  Use state_is_tuple=True.\n",
            "WARNING:tensorflow:<tensorflow.python.ops.rnn_cell_impl.LSTMCell object at 0x7f35ba6ea690>: Using a concatenated state is slower and will soon be deprecated.  Use state_is_tuple=True.\n",
            "WARNING:tensorflow:<tensorflow.python.ops.rnn_cell_impl.LSTMCell object at 0x7f35b8dfda10>: Using a concatenated state is slower and will soon be deprecated.  Use state_is_tuple=True.\n"
          ]
        },
        {
          "metadata": {
            "tags": null
          },
          "name": "stderr",
          "output_type": "stream",
          "text": [
            "/tensorflow-1.15.2/python3.7/tensorflow_core/python/client/session.py:1750: UserWarning: An interactive session is already active. This can cause out-of-memory errors in some cases. You must explicitly call `InteractiveSession.close()` to release resources held by the other session(s).\n",
            "  warnings.warn('An interactive session is already active. This can '\n",
            "train loop: 100%|██████████| 300/300 [06:02<00:00,  1.21s/it, acc=97.7, cost=0.00131]\n"
          ]
        },
        {
          "metadata": {
            "tags": null
          },
          "name": "stdout",
          "output_type": "stream",
          "text": [
            "simulation 8\n",
            "WARNING:tensorflow:<tensorflow.python.ops.rnn_cell_impl.LSTMCell object at 0x7f35ba70be90>: Using a concatenated state is slower and will soon be deprecated.  Use state_is_tuple=True.\n",
            "WARNING:tensorflow:<tensorflow.python.ops.rnn_cell_impl.LSTMCell object at 0x7f35b89f5810>: Using a concatenated state is slower and will soon be deprecated.  Use state_is_tuple=True.\n",
            "WARNING:tensorflow:<tensorflow.python.ops.rnn_cell_impl.LSTMCell object at 0x7f35b8821ed0>: Using a concatenated state is slower and will soon be deprecated.  Use state_is_tuple=True.\n",
            "WARNING:tensorflow:<tensorflow.python.ops.rnn_cell_impl.LSTMCell object at 0x7f35b8821d10>: Using a concatenated state is slower and will soon be deprecated.  Use state_is_tuple=True.\n"
          ]
        },
        {
          "metadata": {
            "tags": null
          },
          "name": "stderr",
          "output_type": "stream",
          "text": [
            "/tensorflow-1.15.2/python3.7/tensorflow_core/python/client/session.py:1750: UserWarning: An interactive session is already active. This can cause out-of-memory errors in some cases. You must explicitly call `InteractiveSession.close()` to release resources held by the other session(s).\n",
            "  warnings.warn('An interactive session is already active. This can '\n",
            "train loop: 100%|██████████| 300/300 [06:03<00:00,  1.21s/it, acc=98.2, cost=0.000817]\n"
          ]
        },
        {
          "metadata": {
            "tags": null
          },
          "name": "stdout",
          "output_type": "stream",
          "text": [
            "simulation 9\n",
            "WARNING:tensorflow:<tensorflow.python.ops.rnn_cell_impl.LSTMCell object at 0x7f35b8db9e10>: Using a concatenated state is slower and will soon be deprecated.  Use state_is_tuple=True.\n",
            "WARNING:tensorflow:<tensorflow.python.ops.rnn_cell_impl.LSTMCell object at 0x7f35b69c2a10>: Using a concatenated state is slower and will soon be deprecated.  Use state_is_tuple=True.\n",
            "WARNING:tensorflow:<tensorflow.python.ops.rnn_cell_impl.LSTMCell object at 0x7f35b69a2550>: Using a concatenated state is slower and will soon be deprecated.  Use state_is_tuple=True.\n",
            "WARNING:tensorflow:<tensorflow.python.ops.rnn_cell_impl.LSTMCell object at 0x7f35b6983410>: Using a concatenated state is slower and will soon be deprecated.  Use state_is_tuple=True.\n"
          ]
        },
        {
          "metadata": {
            "tags": null
          },
          "name": "stderr",
          "output_type": "stream",
          "text": [
            "/tensorflow-1.15.2/python3.7/tensorflow_core/python/client/session.py:1750: UserWarning: An interactive session is already active. This can cause out-of-memory errors in some cases. You must explicitly call `InteractiveSession.close()` to release resources held by the other session(s).\n",
            "  warnings.warn('An interactive session is already active. This can '\n",
            "train loop: 100%|██████████| 300/300 [06:03<00:00,  1.21s/it, acc=98.5, cost=0.000564]\n"
          ]
        },
        {
          "metadata": {
            "tags": null
          },
          "name": "stdout",
          "output_type": "stream",
          "text": [
            "simulation 10\n",
            "WARNING:tensorflow:<tensorflow.python.ops.rnn_cell_impl.LSTMCell object at 0x7f35b8814bd0>: Using a concatenated state is slower and will soon be deprecated.  Use state_is_tuple=True.\n",
            "WARNING:tensorflow:<tensorflow.python.ops.rnn_cell_impl.LSTMCell object at 0x7f35b89f5b50>: Using a concatenated state is slower and will soon be deprecated.  Use state_is_tuple=True.\n",
            "WARNING:tensorflow:<tensorflow.python.ops.rnn_cell_impl.LSTMCell object at 0x7f35b4a87910>: Using a concatenated state is slower and will soon be deprecated.  Use state_is_tuple=True.\n",
            "WARNING:tensorflow:<tensorflow.python.ops.rnn_cell_impl.LSTMCell object at 0x7f35b31ece90>: Using a concatenated state is slower and will soon be deprecated.  Use state_is_tuple=True.\n"
          ]
        },
        {
          "output_type": "stream",
          "name": "stderr",
          "text": [
            "/tensorflow-1.15.2/python3.7/tensorflow_core/python/client/session.py:1750: UserWarning: An interactive session is already active. This can cause out-of-memory errors in some cases. You must explicitly call `InteractiveSession.close()` to release resources held by the other session(s).\n",
            "  warnings.warn('An interactive session is already active. This can '\n",
            "train loop: 100%|██████████| 300/300 [06:04<00:00,  1.21s/it, acc=98.1, cost=0.00098]\n"
          ]
        }
      ],
      "source": [
        "results = []\n",
        "for i in range(simulation_size):\n",
        "    print('simulation %d'%(i + 1))\n",
        "    results.append(forecast())"
      ]
    },
    {
      "cell_type": "markdown",
      "source": [
        "#**Sanity check**\n",
        "Some of our models might not have stable gradient, so forecasted trend might really hangwired. You can use many methods to filter out unstable models.\n",
        "\n",
        "This method is very simple,\n",
        "\n",
        "If one of element in forecasted trend lower than min(original trend).\n",
        "If one of element in forecasted trend bigger than max(original trend) * 2.\n",
        "If both are true, reject that trend.\n"
      ],
      "metadata": {
        "id": "F6NjPlQQtT5l"
      }
    },
    {
      "cell_type": "code",
      "source": [
        "date_ori = pd.to_datetime(df.iloc[:, 0]).tolist()\n",
        "for i in range(test_size):\n",
        "    date_ori.append(date_ori[-1] + timedelta(days = 1))\n",
        "date_ori = pd.Series(date_ori).dt.strftime(date_format = '%Y-%m-%d').tolist()\n",
        "date_ori[-5:]"
      ],
      "metadata": {
        "id": "tOQd3yc-u6Um",
        "colab": {
          "base_uri": "https://localhost:8080/"
        },
        "outputId": "bde5a132-9edb-4133-f596-e058da136fee"
      },
      "execution_count": null,
      "outputs": [
        {
          "output_type": "execute_result",
          "data": {
            "text/plain": [
              "['2021-10-26', '2021-10-27', '2021-10-28', '2021-10-29', '2021-10-30']"
            ]
          },
          "metadata": {},
          "execution_count": 27
        }
      ]
    },
    {
      "cell_type": "code",
      "source": [
        "accepted_results = []\n",
        "for r in results:\n",
        "    if (np.array(r[-test_size:]) < np.min(df['Close'])).sum() == 0 and \\\n",
        "    (np.array(r[-test_size:]) > np.max(df['Close']) * 2).sum() == 0:\n",
        "        accepted_results.append(r)\n",
        "len(accepted_results)"
      ],
      "metadata": {
        "id": "59dNg1_TtQbx",
        "colab": {
          "base_uri": "https://localhost:8080/"
        },
        "outputId": "c88f9fc6-bab8-449a-dd21-bedf59b784cb"
      },
      "execution_count": null,
      "outputs": [
        {
          "output_type": "execute_result",
          "data": {
            "text/plain": [
              "10"
            ]
          },
          "metadata": {},
          "execution_count": 28
        }
      ]
    },
    {
      "cell_type": "code",
      "execution_count": null,
      "metadata": {
        "id": "Na8XP2A5IfFC",
        "colab": {
          "base_uri": "https://localhost:8080/",
          "height": 278
        },
        "outputId": "8ab8c04a-3481-4690-b988-7b67499f577d"
      },
      "outputs": [
        {
          "output_type": "display_data",
          "data": {
            "text/plain": [
              "<Figure size 1080x360 with 1 Axes>"
            ],
            "image/png": "[encoded data removed]"
          },
          "metadata": {}
        },
        {
          "output_type": "display_data",
          "data": {
            "text/plain": [
              "<Figure size 432x288 with 0 Axes>"
            ]
          },
          "metadata": {}
        }
      ],
      "source": [
        "accuracies = [calculate_accuracy(df['Close'].iloc[-test_size:].values, r) for r in results]\n",
        "\n",
        "plt.figure(figsize = (15, 5))\n",
        "for no, r in enumerate(results):\n",
        "    plt.plot(r, label = 'forecast %d'%(no + 1))\n",
        "plt.plot(df['Close'].iloc[-test_size:].values, label = 'true trend', c = 'black')\n",
        "plt.legend()\n",
        "plt.title('average accuracy: %.4f'%(np.mean(accuracies)))\n",
        "plt.show()\n",
        "plt.savefig(f'{ticker.upper()}.png')"
      ]
    },
    {
      "cell_type": "code",
      "source": [
        "# # accuracies = [calculate_accuracy(df['Close'].values, r[:-test_size]) for r in accepted_results]\n",
        "# accuracies = [calculate_accuracy(df['Close'].iloc[-test_size:].values, r) for r in results]\n",
        "\n",
        "# plt.figure(figsize = (15, 5))\n",
        "# for no, r in enumerate(accepted_results):\n",
        "#     plt.plot(r, label = 'forecast %d'%(no + 1))\n",
        "# plt.plot(df['Close'], label = 'true trend', c = 'black')\n",
        "# plt.legend()\n",
        "# plt.title('average accuracy: %.4f'%(np.mean(accuracies)))\n",
        "\n",
        "# x_range_future = np.arange(len(results[0]))\n",
        "# plt.xticks(x_range_future[::30], date_ori[::30])\n",
        "\n",
        "# plt.show()\n",
        "# plt.savefig('GOOG.png')"
      ],
      "metadata": {
        "id": "n7s4Fx4Su1fD"
      },
      "execution_count": null,
      "outputs": []
    },
    {
      "cell_type": "code",
      "execution_count": null,
      "metadata": {
        "id": "8IjPLMWwIfFC"
      },
      "outputs": [],
      "source": [
        "\n",
        "results_df = pd.DataFrame(results).T\n",
        "results_df['Dates'] = date_ori[-test_size:]\n",
        "results_df = results_df.set_index('Dates')\n",
        "results_df.to_csv(f'{ticker.upper()}_pred.csv')"
      ]
    },
    {
      "cell_type": "code",
      "source": [
        "results_df"
      ],
      "metadata": {
        "id": "5vh4h_thpFXe",
        "colab": {
          "base_uri": "https://localhost:8080/",
          "height": 1000
        },
        "outputId": "f674af7d-8b04-47cc-fd5a-c8506c8f1b99"
      },
      "execution_count": null,
      "outputs": [
        {
          "output_type": "execute_result",
          "data": {
            "text/plain": [
              "                     0           1           2           3           4  \\\n",
              "Dates                                                                    \n",
              "2021-10-01  268.455000  269.423788  268.031987  271.202919  273.648285   \n",
              "2021-10-02  264.635980  270.236131  270.666074  275.919207  278.969981   \n",
              "2021-10-03  265.247813  269.137175  275.043561  277.701015  283.815401   \n",
              "2021-10-04  266.241027  272.525115  280.581517  282.904320  288.023090   \n",
              "2021-10-05  265.002414  274.653091  280.606617  285.775817  292.536495   \n",
              "2021-10-06  262.758730  278.982881  284.776385  293.636695  302.727474   \n",
              "2021-10-07  264.052479  279.740535  291.600636  297.900410  309.046247   \n",
              "2021-10-08  267.398788  281.539907  296.893681  300.606965  308.899766   \n",
              "2021-10-09  268.533643  285.151282  300.462171  303.002345  306.756045   \n",
              "2021-10-10  266.569111  288.004592  297.738194  313.661455  312.246694   \n",
              "2021-10-11  268.576972  286.810701  306.769112  315.506792  312.976168   \n",
              "2021-10-12  273.300537  287.832863  313.551678  322.019124  314.380156   \n",
              "2021-10-13  276.685057  289.284409  319.351584  323.659771  316.813700   \n",
              "2021-10-14  276.989257  292.354499  320.038581  337.854890  324.991263   \n",
              "2021-10-15  278.048899  295.827691  327.250253  334.651125  324.307146   \n",
              "2021-10-16  281.788459  295.285263  335.735196  344.388351  319.457896   \n",
              "2021-10-17  283.906212  294.327726  339.633666  336.040653  316.733915   \n",
              "2021-10-18  287.659331  296.165984  343.428977  353.567220  313.021507   \n",
              "2021-10-19  288.307304  300.477269  341.382064  342.304195  301.640969   \n",
              "2021-10-20  291.271688  299.927877  344.792366  346.892394  292.137012   \n",
              "2021-10-21  295.929651  297.395660  358.947807  328.232177  284.864475   \n",
              "2021-10-22  301.214834  298.718204  379.610095  330.423741  281.648167   \n",
              "2021-10-23  304.593827  301.321979  375.213671  310.217341  274.370726   \n",
              "2021-10-24  307.507111  296.706158  384.378081  317.392681  269.802188   \n",
              "2021-10-25  314.225445  295.609529  381.750675  303.547010  266.090349   \n",
              "2021-10-26  314.875133  300.378109  343.937893  314.087800  268.153534   \n",
              "2021-10-27  318.293473  301.145283  304.071109  298.537444  268.617123   \n",
              "2021-10-28  326.739417  300.550262  292.890877  312.477260  269.287122   \n",
              "2021-10-29  332.761426  301.772611  270.195336  296.548532  271.363069   \n",
              "2021-10-30  336.690615  303.226860  192.416729  310.517352  279.236385   \n",
              "\n",
              "                     5           6           7           8           9  \n",
              "Dates                                                                   \n",
              "2021-10-01  273.975951  270.260060  269.706420  267.630944  268.639511  \n",
              "2021-10-02  284.152847  273.015854  273.723814  273.317419  272.517025  \n",
              "2021-10-03  286.008570  276.921239  275.684522  276.116438  271.635578  \n",
              "2021-10-04  291.245135  280.244147  277.197050  280.843294  270.052819  \n",
              "2021-10-05  298.511670  283.116073  277.162350  281.154848  272.171892  \n",
              "2021-10-06  298.642493  285.860745  281.378235  287.289415  274.231863  \n",
              "2021-10-07  302.167577  291.158128  286.302737  293.323597  275.165642  \n",
              "2021-10-08  304.084927  298.070468  289.801932  303.610834  276.308764  \n",
              "2021-10-09  306.104532  303.668691  290.321739  307.965690  277.384510  \n",
              "2021-10-10  309.573367  303.000865  292.858728  315.244466  277.786069  \n",
              "2021-10-11  314.705965  303.241955  295.668093  322.554600  281.651887  \n",
              "2021-10-12  314.322312  313.593079  298.395543  332.483143  283.635378  \n",
              "2021-10-13  317.427706  320.052861  300.993235  341.064237  287.365866  \n",
              "2021-10-14  319.294424  323.653925  303.319613  342.106167  287.928295  \n",
              "2021-10-15  311.462410  317.875730  305.413124  347.845755  291.254017  \n",
              "2021-10-16  302.466270  323.206555  307.066332  352.598958  294.422650  \n",
              "2021-10-17  296.480944  332.238576  309.852841  365.862166  296.911041  \n",
              "2021-10-18  287.342681  343.251005  314.927424  364.717915  294.483115  \n",
              "2021-10-19  279.317928  339.751817  314.518138  384.814456  293.950437  \n",
              "2021-10-20  275.111898  340.071890  308.391089  388.181643  297.791588  \n",
              "2021-10-21  272.998739  342.900503  309.076885  416.462557  300.992737  \n",
              "2021-10-22  276.338269  363.854464  314.977153  384.346869  298.016152  \n",
              "2021-10-23  282.261703  364.632311  322.464653  417.444464  297.364338  \n",
              "2021-10-24  288.393863  366.156633  321.322849  381.730137  296.562312  \n",
              "2021-10-25  296.194364  360.685209  322.140211  564.627287  298.182526  \n",
              "2021-10-26  303.402919  373.496101  329.385932  392.832682  298.806126  \n",
              "2021-10-27  310.858454  379.375799  339.022357  399.436771  295.771658  \n",
              "2021-10-28  316.460290  375.302911  341.581359  332.033735  299.231549  \n",
              "2021-10-29  315.862163  358.155673  346.083712  437.620316  303.029305  \n",
              "2021-10-30  303.971761  359.551452  364.472324  333.480311  301.819964  "
            ],
            "text/html": [
              "\n",
              "  <div id=\"df-25bd80e8-feaa-40c3-b82d-6e681b329974\">\n",
              "    <div class=\"colab-df-container\">\n",
              "      <div>\n",
              "<style scoped>\n",
              "    .dataframe tbody tr th:only-of-type {\n",
              "        vertical-align: middle;\n",
              "    }\n",
              "\n",
              "    .dataframe tbody tr th {\n",
              "        vertical-align: top;\n",
              "    }\n",
              "\n",
              "    .dataframe thead th {\n",
              "        text-align: right;\n",
              "    }\n",
              "</style>\n",
              "<table border=\"1\" class=\"dataframe\">\n",
              "  <thead>\n",
              "    <tr style=\"text-align: right;\">\n",
              "      <th></th>\n",
              "      <th>0</th>\n",
              "      <th>1</th>\n",
              "      <th>2</th>\n",
              "      <th>3</th>\n",
              "      <th>4</th>\n",
              "      <th>5</th>\n",
              "      <th>6</th>\n",
              "      <th>7</th>\n",
              "      <th>8</th>\n",
              "      <th>9</th>\n",
              "    </tr>\n",
              "    <tr>\n",
              "      <th>Dates</th>\n",
              "      <th></th>\n",
              "      <th></th>\n",
              "      <th></th>\n",
              "      <th></th>\n",
              "      <th></th>\n",
              "      <th></th>\n",
              "      <th></th>\n",
              "      <th></th>\n",
              "      <th></th>\n",
              "      <th></th>\n",
              "    </tr>\n",
              "  </thead>\n",
              "  <tbody>\n",
              "    <tr>\n",
              "      <th>2021-10-01</th>\n",
              "      <td>268.455000</td>\n",
              "      <td>269.423788</td>\n",
              "      <td>268.031987</td>\n",
              "      <td>271.202919</td>\n",
              "      <td>273.648285</td>\n",
              "      <td>273.975951</td>\n",
              "      <td>270.260060</td>\n",
              "      <td>269.706420</td>\n",
              "      <td>267.630944</td>\n",
              "      <td>268.639511</td>\n",
              "    </tr>\n",
              "    <tr>\n",
              "      <th>2021-10-02</th>\n",
              "      <td>264.635980</td>\n",
              "      <td>270.236131</td>\n",
              "      <td>270.666074</td>\n",
              "      <td>275.919207</td>\n",
              "      <td>278.969981</td>\n",
              "      <td>284.152847</td>\n",
              "      <td>273.015854</td>\n",
              "      <td>273.723814</td>\n",
              "      <td>273.317419</td>\n",
              "      <td>272.517025</td>\n",
              "    </tr>\n",
              "    <tr>\n",
              "      <th>2021-10-03</th>\n",
              "      <td>265.247813</td>\n",
              "      <td>269.137175</td>\n",
              "      <td>275.043561</td>\n",
              "      <td>277.701015</td>\n",
              "      <td>283.815401</td>\n",
              "      <td>286.008570</td>\n",
              "      <td>276.921239</td>\n",
              "      <td>275.684522</td>\n",
              "      <td>276.116438</td>\n",
              "      <td>271.635578</td>\n",
              "    </tr>\n",
              "    <tr>\n",
              "      <th>2021-10-04</th>\n",
              "      <td>266.241027</td>\n",
              "      <td>272.525115</td>\n",
              "      <td>280.581517</td>\n",
              "      <td>282.904320</td>\n",
              "      <td>288.023090</td>\n",
              "      <td>291.245135</td>\n",
              "      <td>280.244147</td>\n",
              "      <td>277.197050</td>\n",
              "      <td>280.843294</td>\n",
              "      <td>270.052819</td>\n",
              "    </tr>\n",
              "    <tr>\n",
              "      <th>2021-10-05</th>\n",
              "      <td>265.002414</td>\n",
              "      <td>274.653091</td>\n",
              "      <td>280.606617</td>\n",
              "      <td>285.775817</td>\n",
              "      <td>292.536495</td>\n",
              "      <td>298.511670</td>\n",
              "      <td>283.116073</td>\n",
              "      <td>277.162350</td>\n",
              "      <td>281.154848</td>\n",
              "      <td>272.171892</td>\n",
              "    </tr>\n",
              "    <tr>\n",
              "      <th>2021-10-06</th>\n",
              "      <td>262.758730</td>\n",
              "      <td>278.982881</td>\n",
              "      <td>284.776385</td>\n",
              "      <td>293.636695</td>\n",
              "      <td>302.727474</td>\n",
              "      <td>298.642493</td>\n",
              "      <td>285.860745</td>\n",
              "      <td>281.378235</td>\n",
              "      <td>287.289415</td>\n",
              "      <td>274.231863</td>\n",
              "    </tr>\n",
              "    <tr>\n",
              "      <th>2021-10-07</th>\n",
              "      <td>264.052479</td>\n",
              "      <td>279.740535</td>\n",
              "      <td>291.600636</td>\n",
              "      <td>297.900410</td>\n",
              "      <td>309.046247</td>\n",
              "      <td>302.167577</td>\n",
              "      <td>291.158128</td>\n",
              "      <td>286.302737</td>\n",
              "      <td>293.323597</td>\n",
              "      <td>275.165642</td>\n",
              "    </tr>\n",
              "    <tr>\n",
              "      <th>2021-10-08</th>\n",
              "      <td>267.398788</td>\n",
              "      <td>281.539907</td>\n",
              "      <td>296.893681</td>\n",
              "      <td>300.606965</td>\n",
              "      <td>308.899766</td>\n",
              "      <td>304.084927</td>\n",
              "      <td>298.070468</td>\n",
              "      <td>289.801932</td>\n",
              "      <td>303.610834</td>\n",
              "      <td>276.308764</td>\n",
              "    </tr>\n",
              "    <tr>\n",
              "      <th>2021-10-09</th>\n",
              "      <td>268.533643</td>\n",
              "      <td>285.151282</td>\n",
              "      <td>300.462171</td>\n",
              "      <td>303.002345</td>\n",
              "      <td>306.756045</td>\n",
              "      <td>306.104532</td>\n",
              "      <td>303.668691</td>\n",
              "      <td>290.321739</td>\n",
              "      <td>307.965690</td>\n",
              "      <td>277.384510</td>\n",
              "    </tr>\n",
              "    <tr>\n",
              "      <th>2021-10-10</th>\n",
              "      <td>266.569111</td>\n",
              "      <td>288.004592</td>\n",
              "      <td>297.738194</td>\n",
              "      <td>313.661455</td>\n",
              "      <td>312.246694</td>\n",
              "      <td>309.573367</td>\n",
              "      <td>303.000865</td>\n",
              "      <td>292.858728</td>\n",
              "      <td>315.244466</td>\n",
              "      <td>277.786069</td>\n",
              "    </tr>\n",
              "    <tr>\n",
              "      <th>2021-10-11</th>\n",
              "      <td>268.576972</td>\n",
              "      <td>286.810701</td>\n",
              "      <td>306.769112</td>\n",
              "      <td>315.506792</td>\n",
              "      <td>312.976168</td>\n",
              "      <td>314.705965</td>\n",
              "      <td>303.241955</td>\n",
              "      <td>295.668093</td>\n",
              "      <td>322.554600</td>\n",
              "      <td>281.651887</td>\n",
              "    </tr>\n",
              "    <tr>\n",
              "      <th>2021-10-12</th>\n",
              "      <td>273.300537</td>\n",
              "      <td>287.832863</td>\n",
              "      <td>313.551678</td>\n",
              "      <td>322.019124</td>\n",
              "      <td>314.380156</td>\n",
              "      <td>314.322312</td>\n",
              "      <td>313.593079</td>\n",
              "      <td>298.395543</td>\n",
              "      <td>332.483143</td>\n",
              "      <td>283.635378</td>\n",
              "    </tr>\n",
              "    <tr>\n",
              "      <th>2021-10-13</th>\n",
              "      <td>276.685057</td>\n",
              "      <td>289.284409</td>\n",
              "      <td>319.351584</td>\n",
              "      <td>323.659771</td>\n",
              "      <td>316.813700</td>\n",
              "      <td>317.427706</td>\n",
              "      <td>320.052861</td>\n",
              "      <td>300.993235</td>\n",
              "      <td>341.064237</td>\n",
              "      <td>287.365866</td>\n",
              "    </tr>\n",
              "    <tr>\n",
              "      <th>2021-10-14</th>\n",
              "      <td>276.989257</td>\n",
              "      <td>292.354499</td>\n",
              "      <td>320.038581</td>\n",
              "      <td>337.854890</td>\n",
              "      <td>324.991263</td>\n",
              "      <td>319.294424</td>\n",
              "      <td>323.653925</td>\n",
              "      <td>303.319613</td>\n",
              "      <td>342.106167</td>\n",
              "      <td>287.928295</td>\n",
              "    </tr>\n",
              "    <tr>\n",
              "      <th>2021-10-15</th>\n",
              "      <td>278.048899</td>\n",
              "      <td>295.827691</td>\n",
              "      <td>327.250253</td>\n",
              "      <td>334.651125</td>\n",
              "      <td>324.307146</td>\n",
              "      <td>311.462410</td>\n",
              "      <td>317.875730</td>\n",
              "      <td>305.413124</td>\n",
              "      <td>347.845755</td>\n",
              "      <td>291.254017</td>\n",
              "    </tr>\n",
              "    <tr>\n",
              "      <th>2021-10-16</th>\n",
              "      <td>281.788459</td>\n",
              "      <td>295.285263</td>\n",
              "      <td>335.735196</td>\n",
              "      <td>344.388351</td>\n",
              "      <td>319.457896</td>\n",
              "      <td>302.466270</td>\n",
              "      <td>323.206555</td>\n",
              "      <td>307.066332</td>\n",
              "      <td>352.598958</td>\n",
              "      <td>294.422650</td>\n",
              "    </tr>\n",
              "    <tr>\n",
              "      <th>2021-10-17</th>\n",
              "      <td>283.906212</td>\n",
              "      <td>294.327726</td>\n",
              "      <td>339.633666</td>\n",
              "      <td>336.040653</td>\n",
              "      <td>316.733915</td>\n",
              "      <td>296.480944</td>\n",
              "      <td>332.238576</td>\n",
              "      <td>309.852841</td>\n",
              "      <td>365.862166</td>\n",
              "      <td>296.911041</td>\n",
              "    </tr>\n",
              "    <tr>\n",
              "      <th>2021-10-18</th>\n",
              "      <td>287.659331</td>\n",
              "      <td>296.165984</td>\n",
              "      <td>343.428977</td>\n",
              "      <td>353.567220</td>\n",
              "      <td>313.021507</td>\n",
              "      <td>287.342681</td>\n",
              "      <td>343.251005</td>\n",
              "      <td>314.927424</td>\n",
              "      <td>364.717915</td>\n",
              "      <td>294.483115</td>\n",
              "    </tr>\n",
              "    <tr>\n",
              "      <th>2021-10-19</th>\n",
              "      <td>288.307304</td>\n",
              "      <td>300.477269</td>\n",
              "      <td>341.382064</td>\n",
              "      <td>342.304195</td>\n",
              "      <td>301.640969</td>\n",
              "      <td>279.317928</td>\n",
              "      <td>339.751817</td>\n",
              "      <td>314.518138</td>\n",
              "      <td>384.814456</td>\n",
              "      <td>293.950437</td>\n",
              "    </tr>\n",
              "    <tr>\n",
              "      <th>2021-10-20</th>\n",
              "      <td>291.271688</td>\n",
              "      <td>299.927877</td>\n",
              "      <td>344.792366</td>\n",
              "      <td>346.892394</td>\n",
              "      <td>292.137012</td>\n",
              "      <td>275.111898</td>\n",
              "      <td>340.071890</td>\n",
              "      <td>308.391089</td>\n",
              "      <td>388.181643</td>\n",
              "      <td>297.791588</td>\n",
              "    </tr>\n",
              "    <tr>\n",
              "      <th>2021-10-21</th>\n",
              "      <td>295.929651</td>\n",
              "      <td>297.395660</td>\n",
              "      <td>358.947807</td>\n",
              "      <td>328.232177</td>\n",
              "      <td>284.864475</td>\n",
              "      <td>272.998739</td>\n",
              "      <td>342.900503</td>\n",
              "      <td>309.076885</td>\n",
              "      <td>416.462557</td>\n",
              "      <td>300.992737</td>\n",
              "    </tr>\n",
              "    <tr>\n",
              "      <th>2021-10-22</th>\n",
              "      <td>301.214834</td>\n",
              "      <td>298.718204</td>\n",
              "      <td>379.610095</td>\n",
              "      <td>330.423741</td>\n",
              "      <td>281.648167</td>\n",
              "      <td>276.338269</td>\n",
              "      <td>363.854464</td>\n",
              "      <td>314.977153</td>\n",
              "      <td>384.346869</td>\n",
              "      <td>298.016152</td>\n",
              "    </tr>\n",
              "    <tr>\n",
              "      <th>2021-10-23</th>\n",
              "      <td>304.593827</td>\n",
              "      <td>301.321979</td>\n",
              "      <td>375.213671</td>\n",
              "      <td>310.217341</td>\n",
              "      <td>274.370726</td>\n",
              "      <td>282.261703</td>\n",
              "      <td>364.632311</td>\n",
              "      <td>322.464653</td>\n",
              "      <td>417.444464</td>\n",
              "      <td>297.364338</td>\n",
              "    </tr>\n",
              "    <tr>\n",
              "      <th>2021-10-24</th>\n",
              "      <td>307.507111</td>\n",
              "      <td>296.706158</td>\n",
              "      <td>384.378081</td>\n",
              "      <td>317.392681</td>\n",
              "      <td>269.802188</td>\n",
              "      <td>288.393863</td>\n",
              "      <td>366.156633</td>\n",
              "      <td>321.322849</td>\n",
              "      <td>381.730137</td>\n",
              "      <td>296.562312</td>\n",
              "    </tr>\n",
              "    <tr>\n",
              "      <th>2021-10-25</th>\n",
              "      <td>314.225445</td>\n",
              "      <td>295.609529</td>\n",
              "      <td>381.750675</td>\n",
              "      <td>303.547010</td>\n",
              "      <td>266.090349</td>\n",
              "      <td>296.194364</td>\n",
              "      <td>360.685209</td>\n",
              "      <td>322.140211</td>\n",
              "      <td>564.627287</td>\n",
              "      <td>298.182526</td>\n",
              "    </tr>\n",
              "    <tr>\n",
              "      <th>2021-10-26</th>\n",
              "      <td>314.875133</td>\n",
              "      <td>300.378109</td>\n",
              "      <td>343.937893</td>\n",
              "      <td>314.087800</td>\n",
              "      <td>268.153534</td>\n",
              "      <td>303.402919</td>\n",
              "      <td>373.496101</td>\n",
              "      <td>329.385932</td>\n",
              "      <td>392.832682</td>\n",
              "      <td>298.806126</td>\n",
              "    </tr>\n",
              "    <tr>\n",
              "      <th>2021-10-27</th>\n",
              "      <td>318.293473</td>\n",
              "      <td>301.145283</td>\n",
              "      <td>304.071109</td>\n",
              "      <td>298.537444</td>\n",
              "      <td>268.617123</td>\n",
              "      <td>310.858454</td>\n",
              "      <td>379.375799</td>\n",
              "      <td>339.022357</td>\n",
              "      <td>399.436771</td>\n",
              "      <td>295.771658</td>\n",
              "    </tr>\n",
              "    <tr>\n",
              "      <th>2021-10-28</th>\n",
              "      <td>326.739417</td>\n",
              "      <td>300.550262</td>\n",
              "      <td>292.890877</td>\n",
              "      <td>312.477260</td>\n",
              "      <td>269.287122</td>\n",
              "      <td>316.460290</td>\n",
              "      <td>375.302911</td>\n",
              "      <td>341.581359</td>\n",
              "      <td>332.033735</td>\n",
              "      <td>299.231549</td>\n",
              "    </tr>\n",
              "    <tr>\n",
              "      <th>2021-10-29</th>\n",
              "      <td>332.761426</td>\n",
              "      <td>301.772611</td>\n",
              "      <td>270.195336</td>\n",
              "      <td>296.548532</td>\n",
              "      <td>271.363069</td>\n",
              "      <td>315.862163</td>\n",
              "      <td>358.155673</td>\n",
              "      <td>346.083712</td>\n",
              "      <td>437.620316</td>\n",
              "      <td>303.029305</td>\n",
              "    </tr>\n",
              "    <tr>\n",
              "      <th>2021-10-30</th>\n",
              "      <td>336.690615</td>\n",
              "      <td>303.226860</td>\n",
              "      <td>192.416729</td>\n",
              "      <td>310.517352</td>\n",
              "      <td>279.236385</td>\n",
              "      <td>303.971761</td>\n",
              "      <td>359.551452</td>\n",
              "      <td>364.472324</td>\n",
              "      <td>333.480311</td>\n",
              "      <td>301.819964</td>\n",
              "    </tr>\n",
              "  </tbody>\n",
              "</table>\n",
              "</div>\n",
              "      <button class=\"colab-df-convert\" onclick=\"convertToInteractive('df-25bd80e8-feaa-40c3-b82d-6e681b329974')\"\n",
              "              title=\"Convert this dataframe to an interactive table.\"\n",
              "              style=\"display:none;\">\n",
              "        \n",
              "  <svg xmlns=\"http://www.w3.org/2000/svg\" height=\"24px\"viewBox=\"0 0 24 24\"\n",
              "       width=\"24px\">\n",
              "    <path d=\"M0 0h24v24H0V0z\" fill=\"none\"/>\n",
              "    <path d=\"M18.56 5.44l.94 2.06.94-2.06 2.06-.94-2.06-.94-.94-2.06-.94 2.06-2.06.94zm-11 1L8.5 8.5l.94-2.06 2.06-.94-2.06-.94L8.5 2.5l-.94 2.06-2.06.94zm10 10l.94 2.06.94-2.06 2.06-.94-2.06-.94-.94-2.06-.94 2.06-2.06.94z\"/><path d=\"M17.41 7.96l-1.37-1.37c-.4-.4-.92-.59-1.43-.59-.52 0-1.04.2-1.43.59L10.3 9.45l-7.72 7.72c-.78.78-.78 2.05 0 2.83L4 21.41c.39.39.9.59 1.41.59.51 0 1.02-.2 1.41-.59l7.78-7.78 2.81-2.81c.8-.78.8-2.07 0-2.86zM5.41 20L4 18.59l7.72-7.72 1.47 1.35L5.41 20z\"/>\n",
              "  </svg>\n",
              "      </button>\n",
              "      \n",
              "  <style>\n",
              "    .colab-df-container {\n",
              "      display:flex;\n",
              "      flex-wrap:wrap;\n",
              "      gap: 12px;\n",
              "    }\n",
              "\n",
              "    .colab-df-convert {\n",
              "      background-color: #E8F0FE;\n",
              "      border: none;\n",
              "      border-radius: 50%;\n",
              "      cursor: pointer;\n",
              "      display: none;\n",
              "      fill: #1967D2;\n",
              "      height: 32px;\n",
              "      padding: 0 0 0 0;\n",
              "      width: 32px;\n",
              "    }\n",
              "\n",
              "    .colab-df-convert:hover {\n",
              "      background-color: #E2EBFA;\n",
              "      box-shadow: 0px 1px 2px rgba(60, 64, 67, 0.3), 0px 1px 3px 1px rgba(60, 64, 67, 0.15);\n",
              "      fill: #174EA6;\n",
              "    }\n",
              "\n",
              "    [theme=dark] .colab-df-convert {\n",
              "      background-color: #3B4455;\n",
              "      fill: #D2E3FC;\n",
              "    }\n",
              "\n",
              "    [theme=dark] .colab-df-convert:hover {\n",
              "      background-color: #434B5C;\n",
              "      box-shadow: 0px 1px 3px 1px rgba(0, 0, 0, 0.15);\n",
              "      filter: drop-shadow(0px 1px 2px rgba(0, 0, 0, 0.3));\n",
              "      fill: #FFFFFF;\n",
              "    }\n",
              "  </style>\n",
              "\n",
              "      <script>\n",
              "        const buttonEl =\n",
              "          document.querySelector('#df-25bd80e8-feaa-40c3-b82d-6e681b329974 button.colab-df-convert');\n",
              "        buttonEl.style.display =\n",
              "          google.colab.kernel.accessAllowed ? 'block' : 'none';\n",
              "\n",
              "        async function convertToInteractive(key) {\n",
              "          const element = document.querySelector('#df-25bd80e8-feaa-40c3-b82d-6e681b329974');\n",
              "          const dataTable =\n",
              "            await google.colab.kernel.invokeFunction('convertToInteractive',\n",
              "                                                     [key], {});\n",
              "          if (!dataTable) return;\n",
              "\n",
              "          const docLinkHtml = 'Like what you see? Visit the ' +\n",
              "            '<a target=\"_blank\" href=https://colab.research.google.com/notebooks/data_table.ipynb>data table notebook</a>'\n",
              "            + ' to learn more about interactive tables.';\n",
              "          element.innerHTML = '';\n",
              "          dataTable['output_type'] = 'display_data';\n",
              "          await google.colab.output.renderOutput(dataTable, element);\n",
              "          const docLink = document.createElement('div');\n",
              "          docLink.innerHTML = docLinkHtml;\n",
              "          element.appendChild(docLink);\n",
              "        }\n",
              "      </script>\n",
              "    </div>\n",
              "  </div>\n",
              "  "
            ]
          },
          "metadata": {},
          "execution_count": 34
        }
      ]
    },
    {
      "cell_type": "code",
      "source": [
        ""
      ],
      "metadata": {
        "id": "IRpDbF38wbSB"
      },
      "execution_count": null,
      "outputs": []
    },
    {
      "cell_type": "code",
      "source": [
        "from time import sleep\n",
        "sleep(1800)"
      ],
      "metadata": {
        "id": "wNta-HiimKjS"
      },
      "execution_count": null,
      "outputs": []
    },
    {
      "cell_type": "code",
      "source": [
        ""
      ],
      "metadata": {
        "id": "xqj963rrmOlR"
      },
      "execution_count": null,
      "outputs": []
    }
  ],
  "metadata": {
    "kernelspec": {
      "display_name": "Python 3",
      "language": "python",
      "name": "python3"
    },
    "language_info": {
      "codemirror_mode": {
        "name": "ipython",
        "version": 3
      },
      "file_extension": ".py",
      "mimetype": "text/x-python",
      "name": "python",
      "nbconvert_exporter": "python",
      "pygments_lexer": "ipython3",
      "version": "3.6.8"
    },
    "colab": {
      "name": "bidirectional-lstm-seq2seq.ipynb",
      "provenance": [],
      "collapsed_sections": []
    },
    "accelerator": "GPU"
  },
  "nbformat": 4,
  "nbformat_minor": 0
}