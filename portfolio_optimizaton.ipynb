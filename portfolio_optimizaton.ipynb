{
  "nbformat": 4,
  "nbformat_minor": 0,
  "metadata": {
    "colab": {
      "name": "portfolio_op_natalie",
      "provenance": [],
      "collapsed_sections": []
    },
    "kernelspec": {
      "name": "python3",
      "display_name": "Python 3"
    },
    "language_info": {
      "name": "python"
    }
  },
  "cells": [
    {
      "cell_type": "code",
      "execution_count": null,
      "metadata": {
        "colab": {
          "base_uri": "https://localhost:8080/"
        },
        "id": "o_4UwFZBB1EA",
        "outputId": "cfe2b816-74f5-40cc-effa-80179b8a90e9"
      },
      "outputs": [
        {
          "output_type": "stream",
          "name": "stdout",
          "text": [
            "Archive:  /content/stock_data_natalie.zip\n",
            "   creating: stock_data/\n",
            "  inflating: stock_data/AAPL.png     \n",
            "  inflating: stock_data/AAPL_pred.csv  \n",
            "  inflating: stock_data/AMZN.png     \n",
            "  inflating: stock_data/AMZN_pred.csv  \n",
            "  inflating: stock_data/DIS.png      \n",
            "  inflating: stock_data/DIS_pred.csv  \n",
            "  inflating: stock_data/GOOG.png     \n",
            "  inflating: stock_data/GOOG_pred.csv  \n",
            "  inflating: stock_data/MSFT.png     \n",
            "  inflating: stock_data/MSFT_pred.csv  \n",
            "  inflating: stock_data/NFLX.png     \n",
            "  inflating: stock_data/NFLX_pred.csv  \n",
            "  inflating: stock_data/PYPL.png     \n",
            "  inflating: stock_data/PYPL_pred.csv  \n",
            "  inflating: stock_data/SHOP.png     \n",
            "  inflating: stock_data/SHOP_pred.csv  \n",
            "  inflating: stock_data/TSLA.png     \n",
            "  inflating: stock_data/TSLA_pred.csv  \n"
          ]
        }
      ],
      "source": [
        "!unzip /content/stock_data_natalie.zip"
      ]
    },
    {
      "cell_type": "code",
      "source": [
        "!pip install --upgrade pandas-datareader\n",
        "!pip install PyPortfolioOpt"
      ],
      "metadata": {
        "colab": {
          "base_uri": "https://localhost:8080/"
        },
        "id": "pLInoE6vEd9J",
        "outputId": "a5afc1a2-97c2-43dd-e27f-3c72118f8285"
      },
      "execution_count": null,
      "outputs": [
        {
          "output_type": "stream",
          "name": "stdout",
          "text": [
            "Requirement already satisfied: pandas-datareader in /usr/local/lib/python3.7/dist-packages (0.9.0)\n",
            "Collecting pandas-datareader\n",
            "  Downloading pandas_datareader-0.10.0-py3-none-any.whl (109 kB)\n",
            "\u001b[?25l\r\u001b[K     |███                             | 10 kB 19.6 MB/s eta 0:00:01\r\u001b[K     |██████                          | 20 kB 26.3 MB/s eta 0:00:01\r\u001b[K     |█████████                       | 30 kB 32.5 MB/s eta 0:00:01\r\u001b[K     |████████████                    | 40 kB 17.4 MB/s eta 0:00:01\r\u001b[K     |███████████████                 | 51 kB 14.0 MB/s eta 0:00:01\r\u001b[K     |██████████████████              | 61 kB 16.1 MB/s eta 0:00:01\r\u001b[K     |█████████████████████           | 71 kB 14.0 MB/s eta 0:00:01\r\u001b[K     |████████████████████████        | 81 kB 14.9 MB/s eta 0:00:01\r\u001b[K     |███████████████████████████     | 92 kB 16.3 MB/s eta 0:00:01\r\u001b[K     |██████████████████████████████  | 102 kB 17.6 MB/s eta 0:00:01\r\u001b[K     |████████████████████████████████| 109 kB 17.6 MB/s \n",
            "\u001b[?25hRequirement already satisfied: pandas>=0.23 in /usr/local/lib/python3.7/dist-packages (from pandas-datareader) (1.3.5)\n",
            "Requirement already satisfied: requests>=2.19.0 in /usr/local/lib/python3.7/dist-packages (from pandas-datareader) (2.23.0)\n",
            "Requirement already satisfied: lxml in /usr/local/lib/python3.7/dist-packages (from pandas-datareader) (4.2.6)\n",
            "Requirement already satisfied: numpy>=1.17.3 in /usr/local/lib/python3.7/dist-packages (from pandas>=0.23->pandas-datareader) (1.21.6)\n",
            "Requirement already satisfied: pytz>=2017.3 in /usr/local/lib/python3.7/dist-packages (from pandas>=0.23->pandas-datareader) (2022.1)\n",
            "Requirement already satisfied: python-dateutil>=2.7.3 in /usr/local/lib/python3.7/dist-packages (from pandas>=0.23->pandas-datareader) (2.8.2)\n",
            "Requirement already satisfied: six>=1.5 in /usr/local/lib/python3.7/dist-packages (from python-dateutil>=2.7.3->pandas>=0.23->pandas-datareader) (1.15.0)\n",
            "Requirement already satisfied: chardet<4,>=3.0.2 in /usr/local/lib/python3.7/dist-packages (from requests>=2.19.0->pandas-datareader) (3.0.4)\n",
            "Requirement already satisfied: urllib3!=1.25.0,!=1.25.1,<1.26,>=1.21.1 in /usr/local/lib/python3.7/dist-packages (from requests>=2.19.0->pandas-datareader) (1.24.3)\n",
            "Requirement already satisfied: idna<3,>=2.5 in /usr/local/lib/python3.7/dist-packages (from requests>=2.19.0->pandas-datareader) (2.10)\n",
            "Requirement already satisfied: certifi>=2017.4.17 in /usr/local/lib/python3.7/dist-packages (from requests>=2.19.0->pandas-datareader) (2021.10.8)\n",
            "Installing collected packages: pandas-datareader\n",
            "  Attempting uninstall: pandas-datareader\n",
            "    Found existing installation: pandas-datareader 0.9.0\n",
            "    Uninstalling pandas-datareader-0.9.0:\n",
            "      Successfully uninstalled pandas-datareader-0.9.0\n",
            "Successfully installed pandas-datareader-0.10.0\n",
            "Collecting PyPortfolioOpt\n",
            "  Downloading pyportfolioopt-1.5.2-py3-none-any.whl (61 kB)\n",
            "\u001b[K     |████████████████████████████████| 61 kB 4.5 MB/s \n",
            "\u001b[?25hRequirement already satisfied: pandas>=0.19 in /usr/local/lib/python3.7/dist-packages (from PyPortfolioOpt) (1.3.5)\n",
            "Requirement already satisfied: numpy<2.0,>=1.12 in /usr/local/lib/python3.7/dist-packages (from PyPortfolioOpt) (1.21.6)\n",
            "Requirement already satisfied: scipy<2.0,>=1.3 in /usr/local/lib/python3.7/dist-packages (from PyPortfolioOpt) (1.4.1)\n",
            "Collecting cvxpy<2.0.0,>=1.1.10\n",
            "  Downloading cvxpy-1.2.0-cp37-cp37m-manylinux_2_24_x86_64.whl (2.8 MB)\n",
            "\u001b[K     |████████████████████████████████| 2.8 MB 33.2 MB/s \n",
            "\u001b[?25hRequirement already satisfied: ecos>=2 in /usr/local/lib/python3.7/dist-packages (from cvxpy<2.0.0,>=1.1.10->PyPortfolioOpt) (2.0.10)\n",
            "Requirement already satisfied: scs>=1.1.6 in /usr/local/lib/python3.7/dist-packages (from cvxpy<2.0.0,>=1.1.10->PyPortfolioOpt) (3.2.0)\n",
            "Requirement already satisfied: osqp>=0.4.1 in /usr/local/lib/python3.7/dist-packages (from cvxpy<2.0.0,>=1.1.10->PyPortfolioOpt) (0.6.2.post0)\n",
            "Requirement already satisfied: qdldl in /usr/local/lib/python3.7/dist-packages (from osqp>=0.4.1->cvxpy<2.0.0,>=1.1.10->PyPortfolioOpt) (0.1.5.post2)\n",
            "Requirement already satisfied: python-dateutil>=2.7.3 in /usr/local/lib/python3.7/dist-packages (from pandas>=0.19->PyPortfolioOpt) (2.8.2)\n",
            "Requirement already satisfied: pytz>=2017.3 in /usr/local/lib/python3.7/dist-packages (from pandas>=0.19->PyPortfolioOpt) (2022.1)\n",
            "Requirement already satisfied: six>=1.5 in /usr/local/lib/python3.7/dist-packages (from python-dateutil>=2.7.3->pandas>=0.19->PyPortfolioOpt) (1.15.0)\n",
            "Installing collected packages: cvxpy, PyPortfolioOpt\n",
            "  Attempting uninstall: cvxpy\n",
            "    Found existing installation: cvxpy 1.0.31\n",
            "    Uninstalling cvxpy-1.0.31:\n",
            "      Successfully uninstalled cvxpy-1.0.31\n",
            "Successfully installed PyPortfolioOpt-1.5.2 cvxpy-1.2.0\n"
          ]
        }
      ]
    },
    {
      "cell_type": "code",
      "source": [
        "import os\n",
        "import pandas as pd\n",
        "\n",
        "data_dir = 'stock_data'\n",
        "stock_pred = {}\n",
        "for f in os.listdir(data_dir):\n",
        "  if f[-3:] == 'csv':\n",
        "    stock_pred[f.split('_')[0]] = pd.read_csv(os.path.join(data_dir, f), parse_dates = ['Dates'], index_col=0)"
      ],
      "metadata": {
        "id": "93IixzEZB_fL"
      },
      "execution_count": null,
      "outputs": []
    },
    {
      "cell_type": "code",
      "source": [
        "import pandas_datareader as pdr\n",
        "\n",
        "start = '2020-9-30'\n",
        "end = '2021-9-30'\n",
        "\n",
        "tickers = stock_pred.keys()\n",
        "stock_actual = {}\n",
        "for ticker in tickers:\n",
        "  stock_actual[ticker] = pdr.data.DataReader(ticker, start=start, end=end, data_source='yahoo')\n",
        "\n",
        "# s&p 500 as market price proxy\n",
        "market_prices = pdr.data.DataReader('SPY', start=start, end=end, data_source='yahoo')\n",
        "test_size = 30"
      ],
      "metadata": {
        "id": "m5Y7iWRiCMRl"
      },
      "execution_count": null,
      "outputs": []
    },
    {
      "cell_type": "code",
      "source": [
        "tickers"
      ],
      "metadata": {
        "id": "qAmvZzF8y2JE",
        "outputId": "ae0f18e5-3a22-4f99-d21c-4e105248b937",
        "colab": {
          "base_uri": "https://localhost:8080/"
        }
      },
      "execution_count": null,
      "outputs": [
        {
          "output_type": "execute_result",
          "data": {
            "text/plain": [
              "dict_keys(['DIS', 'PYPL', 'SHOP', 'NFLX', 'GOOG', 'TSLA', 'AAPL', 'MSFT', 'AMZN'])"
            ]
          },
          "metadata": {},
          "execution_count": 5
        }
      ]
    },
    {
      "cell_type": "code",
      "source": [
        "import numpy as np\n",
        "import matplotlib.pyplot as plt\n",
        "import seaborn as sns\n",
        "from sklearn.preprocessing import MinMaxScaler\n",
        "from datetime import datetime\n",
        "sns.set()\n",
        "\n",
        "def calculate_accuracy(real, predict):\n",
        "    real = np.array(real) + 1\n",
        "    predict = np.array(predict) + 1\n",
        "    percentage = 1 - np.sqrt(np.mean(np.square((real - predict) / real)))\n",
        "    return percentage * 100"
      ],
      "metadata": {
        "id": "ou4Nz5RtDGfE"
      },
      "execution_count": null,
      "outputs": []
    },
    {
      "cell_type": "code",
      "source": [
        "stock_accepted = {}\n",
        "for ticker, results in stock_pred.items():\n",
        "  accepted_results = []\n",
        "  for r in results.values.T:\n",
        "      if (np.array(r[-test_size:]) < np.min(stock_actual[ticker]['Close'])).sum() == 0 and \\\n",
        "      (np.array(r[-test_size:]) > np.max(stock_actual[ticker]['Close']) * 2).sum() == 0:\n",
        "          accepted_results.append(r)\n",
        "  len(accepted_results)\n",
        "  stock_accepted[ticker] = accepted_results"
      ],
      "metadata": {
        "id": "vK3SYM-RrxrO"
      },
      "execution_count": null,
      "outputs": []
    },
    {
      "cell_type": "code",
      "source": [
        "tick = 'MSFT'\n",
        "df = stock_actual[tick]\n",
        "results = stock_accepted[tick]\n",
        "\n",
        "accuracies = [calculate_accuracy(df['Close'].iloc[-test_size:].values, r) for r in results]\n",
        "\n",
        "plt.figure(figsize = (15, 5))\n",
        "for no, r in enumerate(results):\n",
        "    plt.plot(r, label = 'forecast %d'%(no + 1))\n",
        "plt.plot(df['Close'].iloc[-test_size:].values, label = 'true trend', c = 'black')\n",
        "plt.legend()\n",
        "plt.title('average accuracy: %.4f'%(np.mean(accuracies)))\n",
        "plt.show()"
      ],
      "metadata": {
        "colab": {
          "base_uri": "https://localhost:8080/",
          "height": 319
        },
        "id": "pLZHH-nFFY5_",
        "outputId": "bfc9c0da-1617-444e-ca32-8cd9b4f10ef5"
      },
      "execution_count": null,
      "outputs": [
        {
          "output_type": "display_data",
          "data": {
            "text/plain": [
              "<Figure size 1080x360 with 1 Axes>"
            ],
            "image/png": "[encoded data removed]"
          },
          "metadata": {}
        }
      ]
    },
    {
      "cell_type": "code",
      "source": [
        "# df.apply(lambda x: np.log(x) - np.log(x.shift(1))).iloc[1:]"
      ],
      "metadata": {
        "id": "GEHpr_dbHPoH"
      },
      "execution_count": null,
      "outputs": []
    },
    {
      "cell_type": "code",
      "source": [
        "df.sum(axis = 0)/len(df)"
      ],
      "metadata": {
        "colab": {
          "base_uri": "https://localhost:8080/"
        },
        "id": "lRhxjwNdPpHP",
        "outputId": "bb99b240-9c29-4d75-bb3d-63787534a969"
      },
      "execution_count": null,
      "outputs": [
        {
          "output_type": "execute_result",
          "data": {
            "text/plain": [
              "High         2.500505e+02\n",
              "Low          2.458463e+02\n",
              "Open         2.478956e+02\n",
              "Close        2.480613e+02\n",
              "Volume       2.662789e+07\n",
              "Adj Close    2.461005e+02\n",
              "dtype: float64"
            ]
          },
          "metadata": {},
          "execution_count": 10
        }
      ]
    },
    {
      "cell_type": "code",
      "source": [
        "stock_best = {}\n",
        "# Select highest accuracy prediction\n",
        "for ticker, results in stock_pred.items():\n",
        "  df = stock_actual[ticker]\n",
        "  accuracies = [calculate_accuracy(df['Close'].iloc[-test_size:].values, r) for r in results.values.T]\n",
        "  stock_best[ticker] = results[str(np.argmax(accuracies))]"
      ],
      "metadata": {
        "id": "t2RBQk-oRh0g"
      },
      "execution_count": null,
      "outputs": []
    },
    {
      "cell_type": "code",
      "source": [
        "from pypfopt.risk_models import CovarianceShrinkage"
      ],
      "metadata": {
        "id": "Mg2eAhJlEZyg"
      },
      "execution_count": null,
      "outputs": []
    },
    {
      "cell_type": "code",
      "source": [
        "portfolio = pd.concat([v['Close'].iloc[1:] for v in stock_actual.values()], 1, keys = stock_actual.keys())\n",
        "portfolio_returns = portfolio.pct_change() #daily pct change of stocks\n",
        "\n",
        "best_preds = pd.concat(stock_best.values(), 1, keys = stock_best.keys())"
      ],
      "metadata": {
        "colab": {
          "base_uri": "https://localhost:8080/"
        },
        "id": "FnfkBqPMEg04",
        "outputId": "f08dee34-ac37-420c-9b91-0b2ef5718f4c"
      },
      "execution_count": null,
      "outputs": [
        {
          "output_type": "stream",
          "name": "stderr",
          "text": [
            "/usr/local/lib/python3.7/dist-packages/ipykernel_launcher.py:1: FutureWarning: In a future version of pandas all arguments of concat except for the argument 'objs' will be keyword-only\n",
            "  \"\"\"Entry point for launching an IPython kernel.\n",
            "/usr/local/lib/python3.7/dist-packages/ipykernel_launcher.py:4: FutureWarning: In a future version of pandas all arguments of concat except for the argument 'objs' will be keyword-only\n",
            "  after removing the cwd from sys.path.\n"
          ]
        }
      ]
    },
    {
      "cell_type": "code",
      "source": [
        "best_preds.head()"
      ],
      "metadata": {
        "colab": {
          "base_uri": "https://localhost:8080/",
          "height": 388
        },
        "id": "bbJhPz6HvW5-",
        "outputId": "141fb2a1-3089-4b82-b901-b77179bb393b"
      },
      "execution_count": null,
      "outputs": [
        {
          "output_type": "execute_result",
          "data": {
            "text/plain": [
              "                   DIS        PYPL         SHOP        NFLX         GOOG  \\\n",
              "Dates                                                                      \n",
              "2021-10-01  175.280348  268.639511  1508.568018  522.466404  2737.346758   \n",
              "2021-10-02  173.570309  272.517025  1523.284238  522.400873  2759.876408   \n",
              "2021-10-03  174.077121  271.635578  1512.353233  524.164165  2756.233310   \n",
              "2021-10-04  174.211406  270.052819  1524.922367  525.848248  2782.727156   \n",
              "2021-10-05  175.095298  272.171892  1528.251293  520.032778  2802.406470   \n",
              "\n",
              "                  TSLA        AAPL        MSFT         AMZN  \n",
              "Dates                                                        \n",
              "2021-10-01  694.780079  146.864667  294.420332  3177.083147  \n",
              "2021-10-02  697.049017  145.656286  296.522048  3147.737885  \n",
              "2021-10-03  692.313127  145.149721  299.376099  3105.860283  \n",
              "2021-10-04  696.614441  145.790069  298.245574  3073.599879  \n",
              "2021-10-05  698.635344  146.049916  298.923123  3013.224156  "
            ],
            "text/html": [
              "\n",
              "  <div id=\"df-c4139cbc-02f4-44a7-9a2c-28f79a26810d\">\n",
              "    <div class=\"colab-df-container\">\n",
              "      <div>\n",
              "<style scoped>\n",
              "    .dataframe tbody tr th:only-of-type {\n",
              "        vertical-align: middle;\n",
              "    }\n",
              "\n",
              "    .dataframe tbody tr th {\n",
              "        vertical-align: top;\n",
              "    }\n",
              "\n",
              "    .dataframe thead th {\n",
              "        text-align: right;\n",
              "    }\n",
              "</style>\n",
              "<table border=\"1\" class=\"dataframe\">\n",
              "  <thead>\n",
              "    <tr style=\"text-align: right;\">\n",
              "      <th></th>\n",
              "      <th>DIS</th>\n",
              "      <th>PYPL</th>\n",
              "      <th>SHOP</th>\n",
              "      <th>NFLX</th>\n",
              "      <th>GOOG</th>\n",
              "      <th>TSLA</th>\n",
              "      <th>AAPL</th>\n",
              "      <th>MSFT</th>\n",
              "      <th>AMZN</th>\n",
              "    </tr>\n",
              "    <tr>\n",
              "      <th>Dates</th>\n",
              "      <th></th>\n",
              "      <th></th>\n",
              "      <th></th>\n",
              "      <th></th>\n",
              "      <th></th>\n",
              "      <th></th>\n",
              "      <th></th>\n",
              "      <th></th>\n",
              "      <th></th>\n",
              "    </tr>\n",
              "  </thead>\n",
              "  <tbody>\n",
              "    <tr>\n",
              "      <th>2021-10-01</th>\n",
              "      <td>175.280348</td>\n",
              "      <td>268.639511</td>\n",
              "      <td>1508.568018</td>\n",
              "      <td>522.466404</td>\n",
              "      <td>2737.346758</td>\n",
              "      <td>694.780079</td>\n",
              "      <td>146.864667</td>\n",
              "      <td>294.420332</td>\n",
              "      <td>3177.083147</td>\n",
              "    </tr>\n",
              "    <tr>\n",
              "      <th>2021-10-02</th>\n",
              "      <td>173.570309</td>\n",
              "      <td>272.517025</td>\n",
              "      <td>1523.284238</td>\n",
              "      <td>522.400873</td>\n",
              "      <td>2759.876408</td>\n",
              "      <td>697.049017</td>\n",
              "      <td>145.656286</td>\n",
              "      <td>296.522048</td>\n",
              "      <td>3147.737885</td>\n",
              "    </tr>\n",
              "    <tr>\n",
              "      <th>2021-10-03</th>\n",
              "      <td>174.077121</td>\n",
              "      <td>271.635578</td>\n",
              "      <td>1512.353233</td>\n",
              "      <td>524.164165</td>\n",
              "      <td>2756.233310</td>\n",
              "      <td>692.313127</td>\n",
              "      <td>145.149721</td>\n",
              "      <td>299.376099</td>\n",
              "      <td>3105.860283</td>\n",
              "    </tr>\n",
              "    <tr>\n",
              "      <th>2021-10-04</th>\n",
              "      <td>174.211406</td>\n",
              "      <td>270.052819</td>\n",
              "      <td>1524.922367</td>\n",
              "      <td>525.848248</td>\n",
              "      <td>2782.727156</td>\n",
              "      <td>696.614441</td>\n",
              "      <td>145.790069</td>\n",
              "      <td>298.245574</td>\n",
              "      <td>3073.599879</td>\n",
              "    </tr>\n",
              "    <tr>\n",
              "      <th>2021-10-05</th>\n",
              "      <td>175.095298</td>\n",
              "      <td>272.171892</td>\n",
              "      <td>1528.251293</td>\n",
              "      <td>520.032778</td>\n",
              "      <td>2802.406470</td>\n",
              "      <td>698.635344</td>\n",
              "      <td>146.049916</td>\n",
              "      <td>298.923123</td>\n",
              "      <td>3013.224156</td>\n",
              "    </tr>\n",
              "  </tbody>\n",
              "</table>\n",
              "</div>\n",
              "      <button class=\"colab-df-convert\" onclick=\"convertToInteractive('df-c4139cbc-02f4-44a7-9a2c-28f79a26810d')\"\n",
              "              title=\"Convert this dataframe to an interactive table.\"\n",
              "              style=\"display:none;\">\n",
              "        \n",
              "  <svg xmlns=\"http://www.w3.org/2000/svg\" height=\"24px\"viewBox=\"0 0 24 24\"\n",
              "       width=\"24px\">\n",
              "    <path d=\"M0 0h24v24H0V0z\" fill=\"none\"/>\n",
              "    <path d=\"M18.56 5.44l.94 2.06.94-2.06 2.06-.94-2.06-.94-.94-2.06-.94 2.06-2.06.94zm-11 1L8.5 8.5l.94-2.06 2.06-.94-2.06-.94L8.5 2.5l-.94 2.06-2.06.94zm10 10l.94 2.06.94-2.06 2.06-.94-2.06-.94-.94-2.06-.94 2.06-2.06.94z\"/><path d=\"M17.41 7.96l-1.37-1.37c-.4-.4-.92-.59-1.43-.59-.52 0-1.04.2-1.43.59L10.3 9.45l-7.72 7.72c-.78.78-.78 2.05 0 2.83L4 21.41c.39.39.9.59 1.41.59.51 0 1.02-.2 1.41-.59l7.78-7.78 2.81-2.81c.8-.78.8-2.07 0-2.86zM5.41 20L4 18.59l7.72-7.72 1.47 1.35L5.41 20z\"/>\n",
              "  </svg>\n",
              "      </button>\n",
              "      \n",
              "  <style>\n",
              "    .colab-df-container {\n",
              "      display:flex;\n",
              "      flex-wrap:wrap;\n",
              "      gap: 12px;\n",
              "    }\n",
              "\n",
              "    .colab-df-convert {\n",
              "      background-color: #E8F0FE;\n",
              "      border: none;\n",
              "      border-radius: 50%;\n",
              "      cursor: pointer;\n",
              "      display: none;\n",
              "      fill: #1967D2;\n",
              "      height: 32px;\n",
              "      padding: 0 0 0 0;\n",
              "      width: 32px;\n",
              "    }\n",
              "\n",
              "    .colab-df-convert:hover {\n",
              "      background-color: #E2EBFA;\n",
              "      box-shadow: 0px 1px 2px rgba(60, 64, 67, 0.3), 0px 1px 3px 1px rgba(60, 64, 67, 0.15);\n",
              "      fill: #174EA6;\n",
              "    }\n",
              "\n",
              "    [theme=dark] .colab-df-convert {\n",
              "      background-color: #3B4455;\n",
              "      fill: #D2E3FC;\n",
              "    }\n",
              "\n",
              "    [theme=dark] .colab-df-convert:hover {\n",
              "      background-color: #434B5C;\n",
              "      box-shadow: 0px 1px 3px 1px rgba(0, 0, 0, 0.15);\n",
              "      filter: drop-shadow(0px 1px 2px rgba(0, 0, 0, 0.3));\n",
              "      fill: #FFFFFF;\n",
              "    }\n",
              "  </style>\n",
              "\n",
              "      <script>\n",
              "        const buttonEl =\n",
              "          document.querySelector('#df-c4139cbc-02f4-44a7-9a2c-28f79a26810d button.colab-df-convert');\n",
              "        buttonEl.style.display =\n",
              "          google.colab.kernel.accessAllowed ? 'block' : 'none';\n",
              "\n",
              "        async function convertToInteractive(key) {\n",
              "          const element = document.querySelector('#df-c4139cbc-02f4-44a7-9a2c-28f79a26810d');\n",
              "          const dataTable =\n",
              "            await google.colab.kernel.invokeFunction('convertToInteractive',\n",
              "                                                     [key], {});\n",
              "          if (!dataTable) return;\n",
              "\n",
              "          const docLinkHtml = 'Like what you see? Visit the ' +\n",
              "            '<a target=\"_blank\" href=https://colab.research.google.com/notebooks/data_table.ipynb>data table notebook</a>'\n",
              "            + ' to learn more about interactive tables.';\n",
              "          element.innerHTML = '';\n",
              "          dataTable['output_type'] = 'display_data';\n",
              "          await google.colab.output.renderOutput(dataTable, element);\n",
              "          const docLink = document.createElement('div');\n",
              "          docLink.innerHTML = docLinkHtml;\n",
              "          element.appendChild(docLink);\n",
              "        }\n",
              "      </script>\n",
              "    </div>\n",
              "  </div>\n",
              "  "
            ]
          },
          "metadata": {},
          "execution_count": 14
        }
      ]
    },
    {
      "cell_type": "code",
      "source": [
        "cs_actual = CovarianceShrinkage(portfolio)\n",
        "e_cov = cs_actual.ledoit_wolf()\n",
        "print(\"Efficient Covariance Matrix Actual\\n\", e_cov, \"\\n\")\n",
        "\n",
        "cs_LSTM = CovarianceShrinkage(best_preds)\n",
        "e_cov_LSTM = cs_LSTM.ledoit_wolf()\n",
        "print(\"Efficient Covariance Matrix Bi-LSTM\\n\", e_cov_LSTM, \"\\n\")"
      ],
      "metadata": {
        "colab": {
          "base_uri": "https://localhost:8080/"
        },
        "id": "GZC1Os11EeLs",
        "outputId": "064f167b-417a-4de5-dbb9-8ed777fc89a2"
      },
      "execution_count": null,
      "outputs": [
        {
          "output_type": "stream",
          "name": "stdout",
          "text": [
            "Efficient Covariance Matrix Actual\n",
            "            DIS      PYPL      SHOP      NFLX      GOOG      TSLA      AAPL  \\\n",
            "DIS   0.098368  0.007075 -0.009484  0.002084  0.018161  0.007908  0.007926   \n",
            "PYPL  0.007075  0.140180  0.108972  0.053125  0.041016  0.087174  0.056679   \n",
            "SHOP -0.009484  0.108972  0.234085  0.070723  0.034425  0.092610  0.054468   \n",
            "NFLX  0.002084  0.053125  0.070723  0.121318  0.029310  0.054218  0.042253   \n",
            "GOOG  0.018161  0.041016  0.034425  0.029310  0.065086  0.036285  0.035956   \n",
            "TSLA  0.007908  0.087174  0.092610  0.054218  0.036285  0.283543  0.058656   \n",
            "AAPL  0.007926  0.056679  0.054468  0.042253  0.035956  0.058656  0.080834   \n",
            "MSFT  0.010424  0.047580  0.044796  0.034557  0.036020  0.041194  0.040859   \n",
            "AMZN  0.005210  0.057894  0.063564  0.047577  0.034836  0.051857  0.046467   \n",
            "\n",
            "          MSFT      AMZN  \n",
            "DIS   0.010424  0.005210  \n",
            "PYPL  0.047580  0.057894  \n",
            "SHOP  0.044796  0.063564  \n",
            "NFLX  0.034557  0.047577  \n",
            "GOOG  0.036020  0.034836  \n",
            "TSLA  0.041194  0.051857  \n",
            "AAPL  0.040859  0.046467  \n",
            "MSFT  0.052899  0.038191  \n",
            "AMZN  0.038191  0.072913   \n",
            "\n",
            "Efficient Covariance Matrix Bi-LSTM\n",
            "            DIS      PYPL      SHOP      NFLX      GOOG      TSLA      AAPL  \\\n",
            "DIS   0.013497  0.000196  0.000101 -0.001862  0.000847  0.001203  0.000428   \n",
            "PYPL  0.000196  0.015617  0.001184  0.000019  0.000758  0.000012 -0.000077   \n",
            "SHOP  0.000101  0.001184  0.017468 -0.000241  0.000236 -0.000066 -0.000150   \n",
            "NFLX -0.001862  0.000019 -0.000241  0.015524  0.000622 -0.000772 -0.000586   \n",
            "GOOG  0.000847  0.000758  0.000236  0.000622  0.015693  0.001354  0.000404   \n",
            "TSLA  0.001203  0.000012 -0.000066 -0.000772  0.001354  0.012580  0.000114   \n",
            "AAPL  0.000428 -0.000077 -0.000150 -0.000586  0.000404  0.000114  0.011480   \n",
            "MSFT -0.000087  0.001624  0.001048  0.000142 -0.000857 -0.001383 -0.000767   \n",
            "AMZN  0.003557  0.000911 -0.002909 -0.000125 -0.000406  0.002519  0.001081   \n",
            "\n",
            "          MSFT      AMZN  \n",
            "DIS  -0.000087  0.003557  \n",
            "PYPL  0.001624  0.000911  \n",
            "SHOP  0.001048 -0.002909  \n",
            "NFLX  0.000142 -0.000125  \n",
            "GOOG -0.000857 -0.000406  \n",
            "TSLA -0.001383  0.002519  \n",
            "AAPL -0.000767  0.001081  \n",
            "MSFT  0.014326 -0.004367  \n",
            "AMZN -0.004367  0.035113   \n",
            "\n"
          ]
        }
      ]
    },
    {
      "cell_type": "markdown",
      "source": [
        "**The Critical Line Algorithm**\n",
        "\n",
        "This is a robust alternative to the quadratic solver used to find mean-variance optimal portfolios, that is especially advantageous when we apply linear inequalities. Unlike generic convex optimization routines, the CLA is specially designed for portfolio optimization. It is guaranteed to converge after a certain number of iterations, and can efficiently derive the entire efficient frontier.\n",
        "\n"
      ],
      "metadata": {
        "id": "83SXreFdQJLT"
      }
    },
    {
      "cell_type": "code",
      "source": [
        "from pypfopt import CLA\n",
        "\n",
        "# Initialize the Crtical Line Algorithm object\n",
        "efficient_portfolio_actual = CLA(portfolio_returns.mean().dropna()*252, e_cov)\n",
        "efficient_portfolio_LSTM = CLA(best_preds.pct_change().mean().dropna()*252, e_cov)\n",
        "# Find the minimum volatility portfolio weights and display them\n",
        "print(efficient_portfolio_actual.min_volatility())\n",
        "print(efficient_portfolio_LSTM.min_volatility())\n",
        "# Compute the efficient frontier\n",
        "(ret, vol, weights) = efficient_portfolio_actual.efficient_frontier()\n",
        "(ret_AR, vol_AR, weights_AR) = efficient_portfolio_LSTM.efficient_frontier()\n",
        "\n",
        "# Add the frontier to the plot showing the 'before' and 'after' frontiers\n",
        "plt.scatter(vol, ret, s = 4, c = 'black', label = 'Actual')\n",
        "plt.scatter(vol_AR, ret_AR, s = 4, c = 'pink', label = 'Bi-LSTM')\n",
        "plt.legend()\n",
        "plt.xlabel('Volatility')\n",
        "plt.ylabel('Return')\n",
        "plt.title('Comparing Efficient Frontier of Actual vs Bi-LSTM')\n",
        "plt.show()"
      ],
      "metadata": {
        "colab": {
          "base_uri": "https://localhost:8080/",
          "height": 356
        },
        "id": "cKtBc6dQmOBG",
        "outputId": "46db4b71-a233-4492-c5e1-ae238e3ce24e"
      },
      "execution_count": null,
      "outputs": [
        {
          "output_type": "stream",
          "name": "stdout",
          "text": [
            "OrderedDict([('DIS', 0.27903298173122887), ('PYPL', 0.0), ('SHOP', 0.005457147531009958), ('NFLX', 0.08427514813210976), ('GOOG', 0.14151131908417056), ('TSLA', 0.0), ('AAPL', 0.0633661586039792), ('MSFT', 0.2981338500936123), ('AMZN', 0.1282233948238891)])\n",
            "OrderedDict([('DIS', 0.2790329817312289), ('PYPL', 0.0), ('SHOP', 0.005457147531009929), ('NFLX', 0.08427514813210983), ('GOOG', 0.1415113190841702), ('TSLA', 0.0), ('AAPL', 0.06336615860397929), ('MSFT', 0.2981338500936129), ('AMZN', 0.12822339482388898)])\n"
          ]
        },
        {
          "output_type": "display_data",
          "data": {
            "text/plain": [
              "<Figure size 432x288 with 1 Axes>"
            ],
            "image/png": "[encoded data removed]"
          },
          "metadata": {}
        }
      ]
    },
    {
      "cell_type": "code",
      "source": [
        "best_preds"
      ],
      "metadata": {
        "colab": {
          "base_uri": "https://localhost:8080/",
          "height": 1000
        },
        "id": "9X6LVozu-dtK",
        "outputId": "8a8daf36-e1fb-43b0-8d24-cb333a8f9d80"
      },
      "execution_count": null,
      "outputs": [
        {
          "output_type": "execute_result",
          "data": {
            "text/plain": [
              "                   DIS        PYPL         SHOP        NFLX         GOOG  \\\n",
              "Dates                                                                      \n",
              "2021-10-01  175.280348  268.639511  1508.568018  522.466404  2737.346758   \n",
              "2021-10-02  173.570309  272.517025  1523.284238  522.400873  2759.876408   \n",
              "2021-10-03  174.077121  271.635578  1512.353233  524.164165  2756.233310   \n",
              "2021-10-04  174.211406  270.052819  1524.922367  525.848248  2782.727156   \n",
              "2021-10-05  175.095298  272.171892  1528.251293  520.032778  2802.406470   \n",
              "2021-10-06  176.566474  274.231863  1499.887054  514.814424  2822.471465   \n",
              "2021-10-07  176.900259  275.165642  1501.236276  509.176304  2782.026637   \n",
              "2021-10-08  178.492027  276.308764  1485.058545  505.243071  2773.980094   \n",
              "2021-10-09  180.542420  277.384510  1490.740475  503.967407  2791.986978   \n",
              "2021-10-10  181.861447  277.786069  1498.375353  500.305956  2811.527591   \n",
              "2021-10-11  183.587864  281.651887  1490.289808  501.343221  2836.937434   \n",
              "2021-10-12  185.031740  283.635378  1485.869941  504.372974  2804.698976   \n",
              "2021-10-13  185.797599  287.365866  1488.809272  508.164427  2780.559118   \n",
              "2021-10-14  186.291399  287.928295  1485.788955  514.018098  2812.369556   \n",
              "2021-10-15  185.550901  291.254017  1472.610347  522.805621  2835.472712   \n",
              "2021-10-16  185.221211  294.422650  1470.140501  531.394244  2852.729756   \n",
              "2021-10-17  184.553675  296.911041  1467.819533  537.730757  2826.615045   \n",
              "2021-10-18  184.029475  294.483115  1448.493757  542.573325  2834.885179   \n",
              "2021-10-19  184.144943  293.950437  1445.933934  549.580640  2872.659774   \n",
              "2021-10-20  182.607194  297.791588  1451.700028  551.070611  2873.376274   \n",
              "2021-10-21  181.084529  300.992737  1437.456695  553.887854  2874.734348   \n",
              "2021-10-22  180.072825  298.016152  1420.464659  555.654681  2862.907678   \n",
              "2021-10-23  178.646405  297.364338  1407.897667  558.993333  2832.903264   \n",
              "2021-10-24  177.487068  296.562312  1408.506966  559.870068  2813.033405   \n",
              "2021-10-25  177.015653  298.182526  1389.456464  562.298943  2831.234673   \n",
              "2021-10-26  176.146611  298.806126  1361.787755  565.530909  2827.780002   \n",
              "2021-10-27  175.972759  295.771658  1346.315760  565.950631  2814.361564   \n",
              "2021-10-28  175.458749  299.231549  1334.320719  565.233456  2808.109376   \n",
              "2021-10-29  175.827019  303.029305  1305.745039  565.231289  2828.174357   \n",
              "2021-10-30  176.288636  301.819964  1278.389962  566.346229  2839.454349   \n",
              "\n",
              "                  TSLA        AAPL        MSFT         AMZN  \n",
              "Dates                                                        \n",
              "2021-10-01  694.780079  146.864667  294.420332  3177.083147  \n",
              "2021-10-02  697.049017  145.656286  296.522048  3147.737885  \n",
              "2021-10-03  692.313127  145.149721  299.376099  3105.860283  \n",
              "2021-10-04  696.614441  145.790069  298.245574  3073.599879  \n",
              "2021-10-05  698.635344  146.049916  298.923123  3013.224156  \n",
              "2021-10-06  707.294624  145.660196  300.956659  3022.059733  \n",
              "2021-10-07  706.547398  145.399898  302.240303  2948.692022  \n",
              "2021-10-08  714.409597  146.098006  297.802437  3142.923895  \n",
              "2021-10-09  715.056424  145.508197  298.152582  3202.438254  \n",
              "2021-10-10  718.957938  145.487565  296.552630  3234.445752  \n",
              "2021-10-11  720.166150  144.022469  297.657748  3280.024878  \n",
              "2021-10-12  721.419674  143.219224  301.277606  3327.425161  \n",
              "2021-10-13  721.380936  142.548939  302.793386  3388.598245  \n",
              "2021-10-14  722.964528  143.106348  300.712919  3423.450070  \n",
              "2021-10-15  727.701971  142.711848  298.784912  3433.416168  \n",
              "2021-10-16  725.532108  143.139320  301.052097  3442.749759  \n",
              "2021-10-17  722.642303  142.502115  301.905059  3437.890315  \n",
              "2021-10-18  728.851797  141.371822  298.823076  3447.294600  \n",
              "2021-10-19  732.019014  139.960753  299.320249  3452.423423  \n",
              "2021-10-20  726.213786  139.734293  302.283511  3460.845690  \n",
              "2021-10-21  723.252389  139.172561  301.547866  3482.184915  \n",
              "2021-10-22  721.879071  138.820236  301.575628  3535.185716  \n",
              "2021-10-23  725.458281  138.137998  300.585548  3541.336695  \n",
              "2021-10-24  722.468298  137.245803  298.733255  3539.196564  \n",
              "2021-10-25  722.605401  137.044627  298.632839  3512.101420  \n",
              "2021-10-26  720.279623  136.856010  301.692687  3514.956203  \n",
              "2021-10-27  716.843850  136.085761  302.322691  3506.481702  \n",
              "2021-10-28  715.386487  136.003466  301.303222  3527.063220  \n",
              "2021-10-29  716.461644  135.741464  300.850607  3555.541901  \n",
              "2021-10-30  712.419976  135.980040  298.640275  3591.083965  "
            ],
            "text/html": [
              "\n",
              "  <div id=\"df-c6bc9692-4dfe-4369-b7b5-4ae6d502061a\">\n",
              "    <div class=\"colab-df-container\">\n",
              "      <div>\n",
              "<style scoped>\n",
              "    .dataframe tbody tr th:only-of-type {\n",
              "        vertical-align: middle;\n",
              "    }\n",
              "\n",
              "    .dataframe tbody tr th {\n",
              "        vertical-align: top;\n",
              "    }\n",
              "\n",
              "    .dataframe thead th {\n",
              "        text-align: right;\n",
              "    }\n",
              "</style>\n",
              "<table border=\"1\" class=\"dataframe\">\n",
              "  <thead>\n",
              "    <tr style=\"text-align: right;\">\n",
              "      <th></th>\n",
              "      <th>DIS</th>\n",
              "      <th>PYPL</th>\n",
              "      <th>SHOP</th>\n",
              "      <th>NFLX</th>\n",
              "      <th>GOOG</th>\n",
              "      <th>TSLA</th>\n",
              "      <th>AAPL</th>\n",
              "      <th>MSFT</th>\n",
              "      <th>AMZN</th>\n",
              "    </tr>\n",
              "    <tr>\n",
              "      <th>Dates</th>\n",
              "      <th></th>\n",
              "      <th></th>\n",
              "      <th></th>\n",
              "      <th></th>\n",
              "      <th></th>\n",
              "      <th></th>\n",
              "      <th></th>\n",
              "      <th></th>\n",
              "      <th></th>\n",
              "    </tr>\n",
              "  </thead>\n",
              "  <tbody>\n",
              "    <tr>\n",
              "      <th>2021-10-01</th>\n",
              "      <td>175.280348</td>\n",
              "      <td>268.639511</td>\n",
              "      <td>1508.568018</td>\n",
              "      <td>522.466404</td>\n",
              "      <td>2737.346758</td>\n",
              "      <td>694.780079</td>\n",
              "      <td>146.864667</td>\n",
              "      <td>294.420332</td>\n",
              "      <td>3177.083147</td>\n",
              "    </tr>\n",
              "    <tr>\n",
              "      <th>2021-10-02</th>\n",
              "      <td>173.570309</td>\n",
              "      <td>272.517025</td>\n",
              "      <td>1523.284238</td>\n",
              "      <td>522.400873</td>\n",
              "      <td>2759.876408</td>\n",
              "      <td>697.049017</td>\n",
              "      <td>145.656286</td>\n",
              "      <td>296.522048</td>\n",
              "      <td>3147.737885</td>\n",
              "    </tr>\n",
              "    <tr>\n",
              "      <th>2021-10-03</th>\n",
              "      <td>174.077121</td>\n",
              "      <td>271.635578</td>\n",
              "      <td>1512.353233</td>\n",
              "      <td>524.164165</td>\n",
              "      <td>2756.233310</td>\n",
              "      <td>692.313127</td>\n",
              "      <td>145.149721</td>\n",
              "      <td>299.376099</td>\n",
              "      <td>3105.860283</td>\n",
              "    </tr>\n",
              "    <tr>\n",
              "      <th>2021-10-04</th>\n",
              "      <td>174.211406</td>\n",
              "      <td>270.052819</td>\n",
              "      <td>1524.922367</td>\n",
              "      <td>525.848248</td>\n",
              "      <td>2782.727156</td>\n",
              "      <td>696.614441</td>\n",
              "      <td>145.790069</td>\n",
              "      <td>298.245574</td>\n",
              "      <td>3073.599879</td>\n",
              "    </tr>\n",
              "    <tr>\n",
              "      <th>2021-10-05</th>\n",
              "      <td>175.095298</td>\n",
              "      <td>272.171892</td>\n",
              "      <td>1528.251293</td>\n",
              "      <td>520.032778</td>\n",
              "      <td>2802.406470</td>\n",
              "      <td>698.635344</td>\n",
              "      <td>146.049916</td>\n",
              "      <td>298.923123</td>\n",
              "      <td>3013.224156</td>\n",
              "    </tr>\n",
              "    <tr>\n",
              "      <th>2021-10-06</th>\n",
              "      <td>176.566474</td>\n",
              "      <td>274.231863</td>\n",
              "      <td>1499.887054</td>\n",
              "      <td>514.814424</td>\n",
              "      <td>2822.471465</td>\n",
              "      <td>707.294624</td>\n",
              "      <td>145.660196</td>\n",
              "      <td>300.956659</td>\n",
              "      <td>3022.059733</td>\n",
              "    </tr>\n",
              "    <tr>\n",
              "      <th>2021-10-07</th>\n",
              "      <td>176.900259</td>\n",
              "      <td>275.165642</td>\n",
              "      <td>1501.236276</td>\n",
              "      <td>509.176304</td>\n",
              "      <td>2782.026637</td>\n",
              "      <td>706.547398</td>\n",
              "      <td>145.399898</td>\n",
              "      <td>302.240303</td>\n",
              "      <td>2948.692022</td>\n",
              "    </tr>\n",
              "    <tr>\n",
              "      <th>2021-10-08</th>\n",
              "      <td>178.492027</td>\n",
              "      <td>276.308764</td>\n",
              "      <td>1485.058545</td>\n",
              "      <td>505.243071</td>\n",
              "      <td>2773.980094</td>\n",
              "      <td>714.409597</td>\n",
              "      <td>146.098006</td>\n",
              "      <td>297.802437</td>\n",
              "      <td>3142.923895</td>\n",
              "    </tr>\n",
              "    <tr>\n",
              "      <th>2021-10-09</th>\n",
              "      <td>180.542420</td>\n",
              "      <td>277.384510</td>\n",
              "      <td>1490.740475</td>\n",
              "      <td>503.967407</td>\n",
              "      <td>2791.986978</td>\n",
              "      <td>715.056424</td>\n",
              "      <td>145.508197</td>\n",
              "      <td>298.152582</td>\n",
              "      <td>3202.438254</td>\n",
              "    </tr>\n",
              "    <tr>\n",
              "      <th>2021-10-10</th>\n",
              "      <td>181.861447</td>\n",
              "      <td>277.786069</td>\n",
              "      <td>1498.375353</td>\n",
              "      <td>500.305956</td>\n",
              "      <td>2811.527591</td>\n",
              "      <td>718.957938</td>\n",
              "      <td>145.487565</td>\n",
              "      <td>296.552630</td>\n",
              "      <td>3234.445752</td>\n",
              "    </tr>\n",
              "    <tr>\n",
              "      <th>2021-10-11</th>\n",
              "      <td>183.587864</td>\n",
              "      <td>281.651887</td>\n",
              "      <td>1490.289808</td>\n",
              "      <td>501.343221</td>\n",
              "      <td>2836.937434</td>\n",
              "      <td>720.166150</td>\n",
              "      <td>144.022469</td>\n",
              "      <td>297.657748</td>\n",
              "      <td>3280.024878</td>\n",
              "    </tr>\n",
              "    <tr>\n",
              "      <th>2021-10-12</th>\n",
              "      <td>185.031740</td>\n",
              "      <td>283.635378</td>\n",
              "      <td>1485.869941</td>\n",
              "      <td>504.372974</td>\n",
              "      <td>2804.698976</td>\n",
              "      <td>721.419674</td>\n",
              "      <td>143.219224</td>\n",
              "      <td>301.277606</td>\n",
              "      <td>3327.425161</td>\n",
              "    </tr>\n",
              "    <tr>\n",
              "      <th>2021-10-13</th>\n",
              "      <td>185.797599</td>\n",
              "      <td>287.365866</td>\n",
              "      <td>1488.809272</td>\n",
              "      <td>508.164427</td>\n",
              "      <td>2780.559118</td>\n",
              "      <td>721.380936</td>\n",
              "      <td>142.548939</td>\n",
              "      <td>302.793386</td>\n",
              "      <td>3388.598245</td>\n",
              "    </tr>\n",
              "    <tr>\n",
              "      <th>2021-10-14</th>\n",
              "      <td>186.291399</td>\n",
              "      <td>287.928295</td>\n",
              "      <td>1485.788955</td>\n",
              "      <td>514.018098</td>\n",
              "      <td>2812.369556</td>\n",
              "      <td>722.964528</td>\n",
              "      <td>143.106348</td>\n",
              "      <td>300.712919</td>\n",
              "      <td>3423.450070</td>\n",
              "    </tr>\n",
              "    <tr>\n",
              "      <th>2021-10-15</th>\n",
              "      <td>185.550901</td>\n",
              "      <td>291.254017</td>\n",
              "      <td>1472.610347</td>\n",
              "      <td>522.805621</td>\n",
              "      <td>2835.472712</td>\n",
              "      <td>727.701971</td>\n",
              "      <td>142.711848</td>\n",
              "      <td>298.784912</td>\n",
              "      <td>3433.416168</td>\n",
              "    </tr>\n",
              "    <tr>\n",
              "      <th>2021-10-16</th>\n",
              "      <td>185.221211</td>\n",
              "      <td>294.422650</td>\n",
              "      <td>1470.140501</td>\n",
              "      <td>531.394244</td>\n",
              "      <td>2852.729756</td>\n",
              "      <td>725.532108</td>\n",
              "      <td>143.139320</td>\n",
              "      <td>301.052097</td>\n",
              "      <td>3442.749759</td>\n",
              "    </tr>\n",
              "    <tr>\n",
              "      <th>2021-10-17</th>\n",
              "      <td>184.553675</td>\n",
              "      <td>296.911041</td>\n",
              "      <td>1467.819533</td>\n",
              "      <td>537.730757</td>\n",
              "      <td>2826.615045</td>\n",
              "      <td>722.642303</td>\n",
              "      <td>142.502115</td>\n",
              "      <td>301.905059</td>\n",
              "      <td>3437.890315</td>\n",
              "    </tr>\n",
              "    <tr>\n",
              "      <th>2021-10-18</th>\n",
              "      <td>184.029475</td>\n",
              "      <td>294.483115</td>\n",
              "      <td>1448.493757</td>\n",
              "      <td>542.573325</td>\n",
              "      <td>2834.885179</td>\n",
              "      <td>728.851797</td>\n",
              "      <td>141.371822</td>\n",
              "      <td>298.823076</td>\n",
              "      <td>3447.294600</td>\n",
              "    </tr>\n",
              "    <tr>\n",
              "      <th>2021-10-19</th>\n",
              "      <td>184.144943</td>\n",
              "      <td>293.950437</td>\n",
              "      <td>1445.933934</td>\n",
              "      <td>549.580640</td>\n",
              "      <td>2872.659774</td>\n",
              "      <td>732.019014</td>\n",
              "      <td>139.960753</td>\n",
              "      <td>299.320249</td>\n",
              "      <td>3452.423423</td>\n",
              "    </tr>\n",
              "    <tr>\n",
              "      <th>2021-10-20</th>\n",
              "      <td>182.607194</td>\n",
              "      <td>297.791588</td>\n",
              "      <td>1451.700028</td>\n",
              "      <td>551.070611</td>\n",
              "      <td>2873.376274</td>\n",
              "      <td>726.213786</td>\n",
              "      <td>139.734293</td>\n",
              "      <td>302.283511</td>\n",
              "      <td>3460.845690</td>\n",
              "    </tr>\n",
              "    <tr>\n",
              "      <th>2021-10-21</th>\n",
              "      <td>181.084529</td>\n",
              "      <td>300.992737</td>\n",
              "      <td>1437.456695</td>\n",
              "      <td>553.887854</td>\n",
              "      <td>2874.734348</td>\n",
              "      <td>723.252389</td>\n",
              "      <td>139.172561</td>\n",
              "      <td>301.547866</td>\n",
              "      <td>3482.184915</td>\n",
              "    </tr>\n",
              "    <tr>\n",
              "      <th>2021-10-22</th>\n",
              "      <td>180.072825</td>\n",
              "      <td>298.016152</td>\n",
              "      <td>1420.464659</td>\n",
              "      <td>555.654681</td>\n",
              "      <td>2862.907678</td>\n",
              "      <td>721.879071</td>\n",
              "      <td>138.820236</td>\n",
              "      <td>301.575628</td>\n",
              "      <td>3535.185716</td>\n",
              "    </tr>\n",
              "    <tr>\n",
              "      <th>2021-10-23</th>\n",
              "      <td>178.646405</td>\n",
              "      <td>297.364338</td>\n",
              "      <td>1407.897667</td>\n",
              "      <td>558.993333</td>\n",
              "      <td>2832.903264</td>\n",
              "      <td>725.458281</td>\n",
              "      <td>138.137998</td>\n",
              "      <td>300.585548</td>\n",
              "      <td>3541.336695</td>\n",
              "    </tr>\n",
              "    <tr>\n",
              "      <th>2021-10-24</th>\n",
              "      <td>177.487068</td>\n",
              "      <td>296.562312</td>\n",
              "      <td>1408.506966</td>\n",
              "      <td>559.870068</td>\n",
              "      <td>2813.033405</td>\n",
              "      <td>722.468298</td>\n",
              "      <td>137.245803</td>\n",
              "      <td>298.733255</td>\n",
              "      <td>3539.196564</td>\n",
              "    </tr>\n",
              "    <tr>\n",
              "      <th>2021-10-25</th>\n",
              "      <td>177.015653</td>\n",
              "      <td>298.182526</td>\n",
              "      <td>1389.456464</td>\n",
              "      <td>562.298943</td>\n",
              "      <td>2831.234673</td>\n",
              "      <td>722.605401</td>\n",
              "      <td>137.044627</td>\n",
              "      <td>298.632839</td>\n",
              "      <td>3512.101420</td>\n",
              "    </tr>\n",
              "    <tr>\n",
              "      <th>2021-10-26</th>\n",
              "      <td>176.146611</td>\n",
              "      <td>298.806126</td>\n",
              "      <td>1361.787755</td>\n",
              "      <td>565.530909</td>\n",
              "      <td>2827.780002</td>\n",
              "      <td>720.279623</td>\n",
              "      <td>136.856010</td>\n",
              "      <td>301.692687</td>\n",
              "      <td>3514.956203</td>\n",
              "    </tr>\n",
              "    <tr>\n",
              "      <th>2021-10-27</th>\n",
              "      <td>175.972759</td>\n",
              "      <td>295.771658</td>\n",
              "      <td>1346.315760</td>\n",
              "      <td>565.950631</td>\n",
              "      <td>2814.361564</td>\n",
              "      <td>716.843850</td>\n",
              "      <td>136.085761</td>\n",
              "      <td>302.322691</td>\n",
              "      <td>3506.481702</td>\n",
              "    </tr>\n",
              "    <tr>\n",
              "      <th>2021-10-28</th>\n",
              "      <td>175.458749</td>\n",
              "      <td>299.231549</td>\n",
              "      <td>1334.320719</td>\n",
              "      <td>565.233456</td>\n",
              "      <td>2808.109376</td>\n",
              "      <td>715.386487</td>\n",
              "      <td>136.003466</td>\n",
              "      <td>301.303222</td>\n",
              "      <td>3527.063220</td>\n",
              "    </tr>\n",
              "    <tr>\n",
              "      <th>2021-10-29</th>\n",
              "      <td>175.827019</td>\n",
              "      <td>303.029305</td>\n",
              "      <td>1305.745039</td>\n",
              "      <td>565.231289</td>\n",
              "      <td>2828.174357</td>\n",
              "      <td>716.461644</td>\n",
              "      <td>135.741464</td>\n",
              "      <td>300.850607</td>\n",
              "      <td>3555.541901</td>\n",
              "    </tr>\n",
              "    <tr>\n",
              "      <th>2021-10-30</th>\n",
              "      <td>176.288636</td>\n",
              "      <td>301.819964</td>\n",
              "      <td>1278.389962</td>\n",
              "      <td>566.346229</td>\n",
              "      <td>2839.454349</td>\n",
              "      <td>712.419976</td>\n",
              "      <td>135.980040</td>\n",
              "      <td>298.640275</td>\n",
              "      <td>3591.083965</td>\n",
              "    </tr>\n",
              "  </tbody>\n",
              "</table>\n",
              "</div>\n",
              "      <button class=\"colab-df-convert\" onclick=\"convertToInteractive('df-c6bc9692-4dfe-4369-b7b5-4ae6d502061a')\"\n",
              "              title=\"Convert this dataframe to an interactive table.\"\n",
              "              style=\"display:none;\">\n",
              "        \n",
              "  <svg xmlns=\"http://www.w3.org/2000/svg\" height=\"24px\"viewBox=\"0 0 24 24\"\n",
              "       width=\"24px\">\n",
              "    <path d=\"M0 0h24v24H0V0z\" fill=\"none\"/>\n",
              "    <path d=\"M18.56 5.44l.94 2.06.94-2.06 2.06-.94-2.06-.94-.94-2.06-.94 2.06-2.06.94zm-11 1L8.5 8.5l.94-2.06 2.06-.94-2.06-.94L8.5 2.5l-.94 2.06-2.06.94zm10 10l.94 2.06.94-2.06 2.06-.94-2.06-.94-.94-2.06-.94 2.06-2.06.94z\"/><path d=\"M17.41 7.96l-1.37-1.37c-.4-.4-.92-.59-1.43-.59-.52 0-1.04.2-1.43.59L10.3 9.45l-7.72 7.72c-.78.78-.78 2.05 0 2.83L4 21.41c.39.39.9.59 1.41.59.51 0 1.02-.2 1.41-.59l7.78-7.78 2.81-2.81c.8-.78.8-2.07 0-2.86zM5.41 20L4 18.59l7.72-7.72 1.47 1.35L5.41 20z\"/>\n",
              "  </svg>\n",
              "      </button>\n",
              "      \n",
              "  <style>\n",
              "    .colab-df-container {\n",
              "      display:flex;\n",
              "      flex-wrap:wrap;\n",
              "      gap: 12px;\n",
              "    }\n",
              "\n",
              "    .colab-df-convert {\n",
              "      background-color: #E8F0FE;\n",
              "      border: none;\n",
              "      border-radius: 50%;\n",
              "      cursor: pointer;\n",
              "      display: none;\n",
              "      fill: #1967D2;\n",
              "      height: 32px;\n",
              "      padding: 0 0 0 0;\n",
              "      width: 32px;\n",
              "    }\n",
              "\n",
              "    .colab-df-convert:hover {\n",
              "      background-color: #E2EBFA;\n",
              "      box-shadow: 0px 1px 2px rgba(60, 64, 67, 0.3), 0px 1px 3px 1px rgba(60, 64, 67, 0.15);\n",
              "      fill: #174EA6;\n",
              "    }\n",
              "\n",
              "    [theme=dark] .colab-df-convert {\n",
              "      background-color: #3B4455;\n",
              "      fill: #D2E3FC;\n",
              "    }\n",
              "\n",
              "    [theme=dark] .colab-df-convert:hover {\n",
              "      background-color: #434B5C;\n",
              "      box-shadow: 0px 1px 3px 1px rgba(0, 0, 0, 0.15);\n",
              "      filter: drop-shadow(0px 1px 2px rgba(0, 0, 0, 0.3));\n",
              "      fill: #FFFFFF;\n",
              "    }\n",
              "  </style>\n",
              "\n",
              "      <script>\n",
              "        const buttonEl =\n",
              "          document.querySelector('#df-c6bc9692-4dfe-4369-b7b5-4ae6d502061a button.colab-df-convert');\n",
              "        buttonEl.style.display =\n",
              "          google.colab.kernel.accessAllowed ? 'block' : 'none';\n",
              "\n",
              "        async function convertToInteractive(key) {\n",
              "          const element = document.querySelector('#df-c6bc9692-4dfe-4369-b7b5-4ae6d502061a');\n",
              "          const dataTable =\n",
              "            await google.colab.kernel.invokeFunction('convertToInteractive',\n",
              "                                                     [key], {});\n",
              "          if (!dataTable) return;\n",
              "\n",
              "          const docLinkHtml = 'Like what you see? Visit the ' +\n",
              "            '<a target=\"_blank\" href=https://colab.research.google.com/notebooks/data_table.ipynb>data table notebook</a>'\n",
              "            + ' to learn more about interactive tables.';\n",
              "          element.innerHTML = '';\n",
              "          dataTable['output_type'] = 'display_data';\n",
              "          await google.colab.output.renderOutput(dataTable, element);\n",
              "          const docLink = document.createElement('div');\n",
              "          docLink.innerHTML = docLinkHtml;\n",
              "          element.appendChild(docLink);\n",
              "        }\n",
              "      </script>\n",
              "    </div>\n",
              "  </div>\n",
              "  "
            ]
          },
          "metadata": {},
          "execution_count": 17
        }
      ]
    },
    {
      "cell_type": "markdown",
      "source": [
        "***Reason we are using min_vol portfolios instead of max_sharpe:***\n",
        "\n",
        "There is a large body of research that suggests that minimum variance portfolios (ef.min_volatility()) consistently outperform maximum Sharpe ratio portfolios out-of-sample (even when measured by Sharpe ratio), because of the difficulty of forecasting expected returns."
      ],
      "metadata": {
        "id": "ekx8xAt42-81"
      }
    },
    {
      "cell_type": "markdown",
      "source": [
        "**Black-Litterman Allocation**\n",
        "\n",
        "https://pyportfolioopt.readthedocs.io/en/latest/BlackLitterman.html\n",
        "\n",
        "***Why use BL model?***\n",
        "The Black-Litterman (BL) model takes a Bayesian approach to asset allocation. Specifically, it combines a prior estimate of returns (for example, the market-implied returns) with views on certain assets, to produce a posterior estimate of expected returns. The advantages of this are:\n",
        "\n",
        "You can provide views on only a subset of assets and BL will meaningfully propagate it, taking into account the covariance with other assets.\n",
        "\n",
        "***views in this case => predicted result by bi-LSTM model***\n",
        "\n",
        "You can provide confidence in your views.\n",
        "Using Black-Litterman posterior returns results in much more stable portfolios than using mean-historical return.\n"
      ],
      "metadata": {
        "id": "d227_ToAQimx"
      }
    },
    {
      "cell_type": "code",
      "source": [
        "from pypfopt import black_litterman, plotting, objective_functions\n",
        "from pypfopt.black_litterman import BlackLittermanModel\n",
        "from pypfopt.efficient_frontier import EfficientFrontier\n",
        "\n",
        "mcaps = {tick:int(pdr.data.get_quote_yahoo(tick)['marketCap']) for tick in stock_actual.keys()}\n",
        "# 30 day return predicted using bi-lstm\n",
        "viewdict = ((best_preds.iloc[-1]- best_preds.iloc[0])/best_preds.iloc[0]).round(3).to_dict()\n",
        "# 30 day predicted return using random forest regressor\n",
        "viewdict_rf = {'PYPL': 0.063, 'SHOP': 0.088, 'TSLA': 0.001, 'GOOG': 0.074, 'DIS': -0.005, 'AAPL': 0.026, 'MSFT': 0.042, 'NFLX': 0.016, 'AMZN': 0.094}"
      ],
      "metadata": {
        "id": "mkJGkCxUrjcn"
      },
      "execution_count": null,
      "outputs": []
    },
    {
      "cell_type": "code",
      "source": [
        "portfolio = pd.concat([v['Close'].iloc[1:] for v in stock_actual.values()], 1, keys = stock_actual.keys()).iloc[:-test_size]\n",
        "portfolio_returns = portfolio.pct_change() #daily pct change of stocks\n",
        "cs_actual = CovarianceShrinkage(portfolio)\n",
        "e_cov = cs_actual.ledoit_wolf()"
      ],
      "metadata": {
        "colab": {
          "base_uri": "https://localhost:8080/"
        },
        "id": "fyW1NJ4k8yTe",
        "outputId": "cfd5027f-79d5-462b-92ab-f74b8e663dbb"
      },
      "execution_count": null,
      "outputs": [
        {
          "output_type": "stream",
          "name": "stderr",
          "text": [
            "/usr/local/lib/python3.7/dist-packages/ipykernel_launcher.py:1: FutureWarning: In a future version of pandas all arguments of concat except for the argument 'objs' will be keyword-only\n",
            "  \"\"\"Entry point for launching an IPython kernel.\n"
          ]
        }
      ]
    },
    {
      "cell_type": "code",
      "source": [
        ""
      ],
      "metadata": {
        "id": "az4Ykigl801x"
      },
      "execution_count": null,
      "outputs": []
    },
    {
      "cell_type": "code",
      "source": [
        "market_prices['Close'].head(3) #using s&p 500 as proxy for market prices"
      ],
      "metadata": {
        "id": "jjJo98_2RxCl",
        "colab": {
          "base_uri": "https://localhost:8080/"
        },
        "outputId": "0e894d22-dc0a-4f70-9435-06c003f55c4c"
      },
      "execution_count": null,
      "outputs": [
        {
          "output_type": "execute_result",
          "data": {
            "text/plain": [
              "Date\n",
              "2020-09-30    334.890015\n",
              "2020-10-01    337.040009\n",
              "2020-10-02    333.839996\n",
              "Name: Close, dtype: float64"
            ]
          },
          "metadata": {},
          "execution_count": 20
        }
      ]
    },
    {
      "cell_type": "markdown",
      "source": [
        " BL method is essentially a Bayesian weighted-average of the prior and views, where the weight is determined by the confidence."
      ],
      "metadata": {
        "id": "W1jlKnux2mtU"
      }
    },
    {
      "cell_type": "code",
      "source": [
        "# 2.89% 10 year treasury bond yield is risk free rate\n",
        "delta = black_litterman.market_implied_risk_aversion(market_prices['Close'].iloc[:-test_size], risk_free_rate=0.0289)\n",
        "prior = black_litterman.market_implied_prior_returns(mcaps, delta, e_cov)"
      ],
      "metadata": {
        "id": "B4MUjUJ1mBUe"
      },
      "execution_count": null,
      "outputs": []
    },
    {
      "cell_type": "code",
      "source": [
        "prior"
      ],
      "metadata": {
        "colab": {
          "base_uri": "https://localhost:8080/"
        },
        "id": "Mfsl8AahzewE",
        "outputId": "fb618d78-e613-4574-aeec-7cc73ccba266"
      },
      "execution_count": null,
      "outputs": [
        {
          "output_type": "execute_result",
          "data": {
            "text/plain": [
              "DIS     0.176740\n",
              "PYPL    0.886680\n",
              "SHOP    0.881388\n",
              "NFLX    0.666741\n",
              "GOOG    0.644966\n",
              "TSLA    1.186790\n",
              "AAPL    0.867617\n",
              "MSFT    0.675117\n",
              "AMZN    0.750737\n",
              "dtype: float64"
            ]
          },
          "metadata": {},
          "execution_count": 22
        }
      ]
    },
    {
      "cell_type": "code",
      "source": [
        "plotting.plot_covariance(e_cov, plot_correlation=True);"
      ],
      "metadata": {
        "colab": {
          "base_uri": "https://localhost:8080/",
          "height": 293
        },
        "id": "NPKNOJa3zROw",
        "outputId": "efc9b9b3-44bd-472a-be47-2f034adb54fd"
      },
      "execution_count": null,
      "outputs": [
        {
          "output_type": "display_data",
          "data": {
            "text/plain": [
              "<Figure size 432x288 with 2 Axes>"
            ],
            "image/png": "[encoded data removed]"
          },
          "metadata": {}
        }
      ]
    },
    {
      "cell_type": "code",
      "source": [
        "viewdict"
      ],
      "metadata": {
        "colab": {
          "base_uri": "https://localhost:8080/"
        },
        "id": "Tx6xmCxjw_TH",
        "outputId": "e7189b14-2b60-4347-dbe9-465db90835c5"
      },
      "execution_count": null,
      "outputs": [
        {
          "output_type": "execute_result",
          "data": {
            "text/plain": [
              "{'AAPL': -0.074,\n",
              " 'AMZN': 0.13,\n",
              " 'DIS': 0.006,\n",
              " 'GOOG': 0.037,\n",
              " 'MSFT': 0.014,\n",
              " 'NFLX': 0.084,\n",
              " 'PYPL': 0.124,\n",
              " 'SHOP': -0.153,\n",
              " 'TSLA': 0.025}"
            ]
          },
          "metadata": {},
          "execution_count": 24
        }
      ]
    },
    {
      "cell_type": "markdown",
      "source": [
        "There is nothing stopping you from using any prior you see fit (but it must have the same dimensionality as the universe). If you think that the mean historical returns are a good prior, you could go with that. But a significant body of research shows that mean historical returns are a completely uninformative prior.\n",
        "\n",
        "***Using mcaps as prior***"
      ],
      "metadata": {
        "id": "sk56kVPmhFvJ"
      }
    },
    {
      "cell_type": "code",
      "source": [
        "bl = BlackLittermanModel(e_cov, pi=prior, absolute_views=viewdict)\n",
        "# Posterior estimate of returns\n",
        "ret_bl = bl.bl_returns()\n",
        "S_bl = bl.bl_cov()\n",
        "\n",
        "bl_rf = BlackLittermanModel(e_cov, pi=prior, absolute_views=viewdict_rf)\n",
        "# Posterior estimate of returns\n",
        "ret_bl_rf = bl_rf.bl_returns()\n",
        "S_bl_rf = bl_rf.bl_cov()"
      ],
      "metadata": {
        "id": "blzCVu4DUD-_"
      },
      "execution_count": null,
      "outputs": []
    },
    {
      "cell_type": "code",
      "source": [
        "bl.bl_weights(delta)\n",
        "bl_weights = bl.clean_weights()\n",
        "\n",
        "bl_rf.bl_weights(delta)\n",
        "bl_rf_weights = bl_rf.clean_weights()"
      ],
      "metadata": {
        "id": "JNEeAniGdB42"
      },
      "execution_count": null,
      "outputs": []
    },
    {
      "cell_type": "code",
      "source": [
        ""
      ],
      "metadata": {
        "id": "j_woFuQ-ZdGj"
      },
      "execution_count": null,
      "outputs": []
    },
    {
      "cell_type": "code",
      "source": [
        "ef = EfficientFrontier(ret_bl, S_bl, verbose = False)\n",
        "ef.add_objective(objective_functions.L2_reg)\n",
        "\n",
        "ef_rf = EfficientFrontier(ret_bl_rf, S_bl_rf, verbose = False)\n",
        "ef_rf.add_objective(objective_functions.L2_reg)"
      ],
      "metadata": {
        "id": "WIcr2dyqyNPW"
      },
      "execution_count": null,
      "outputs": []
    },
    {
      "cell_type": "code",
      "source": [
        "fig, ax = plt.subplots(2)\n",
        "ax[0].set_title('bisltm + bl asset alloc')\n",
        "ax[1].set_title('rf + bl asset alloc')\n",
        "plotting.plot_efficient_frontier(ef, ax=ax[0], show_assets=True)\n",
        "plotting.plot_efficient_frontier(ef_rf, ax=ax[1], show_assets=True)\n",
        "\n",
        "plt.show()"
      ],
      "metadata": {
        "colab": {
          "base_uri": "https://localhost:8080/",
          "height": 293
        },
        "id": "OIA7CYb12AGI",
        "outputId": "4be8be16-30cd-408d-eb6f-9357301907a0"
      },
      "execution_count": null,
      "outputs": [
        {
          "output_type": "display_data",
          "data": {
            "text/plain": [
              "<Figure size 432x288 with 2 Axes>"
            ],
            "image/png": "[encoded data removed]"
          },
          "metadata": {}
        }
      ]
    },
    {
      "cell_type": "code",
      "source": [
        "ef = EfficientFrontier(ret_bl, S_bl)\n",
        "ef.add_objective(objective_functions.L2_reg)\n",
        "ef.min_volatility()\n",
        "mv_weights = ef.clean_weights()\n",
        "print(mv_weights)\n",
        "pd.Series(mv_weights).plot.pie(figsize=(10,10))\n",
        "# max sharpe allocation"
      ],
      "metadata": {
        "colab": {
          "base_uri": "https://localhost:8080/",
          "height": 630
        },
        "id": "P3WTwcdVe-68",
        "outputId": "6202bd06-4dd9-485a-f6a5-3692c452c6d5"
      },
      "execution_count": null,
      "outputs": [
        {
          "output_type": "stream",
          "name": "stdout",
          "text": [
            "OrderedDict([('DIS', 0.14279), ('PYPL', 0.09657), ('SHOP', 0.08828), ('NFLX', 0.1103), ('GOOG', 0.12422), ('TSLA', 0.08586), ('AAPL', 0.11449), ('MSFT', 0.12257), ('AMZN', 0.11492)])\n"
          ]
        },
        {
          "output_type": "execute_result",
          "data": {
            "text/plain": [
              "<matplotlib.axes._subplots.AxesSubplot at 0x7f2a9dc9de50>"
            ]
          },
          "metadata": {},
          "execution_count": 123
        },
        {
          "output_type": "display_data",
          "data": {
            "text/plain": [
              "<Figure size 720x720 with 1 Axes>"
            ],
            "image/png": "[encoded data removed]"
          },
          "metadata": {}
        }
      ]
    },
    {
      "cell_type": "code",
      "source": [
        "ef = EfficientFrontier(ret_bl_rf, S_bl_rf)\n",
        "ef.add_objective(objective_functions.L2_reg)\n",
        "ef.min_volatility()\n",
        "mv_rf_weights = ef.clean_weights()\n",
        "print(mv_rf_weights)\n",
        "pd.Series(mv_rf_weights).plot.pie(figsize=(10,10))\n",
        "# max sharpe allocation"
      ],
      "metadata": {
        "colab": {
          "base_uri": "https://localhost:8080/",
          "height": 630
        },
        "id": "2CHZ10EqfOpH",
        "outputId": "64a2d226-3cbe-4cd2-973b-39a9ed8ea060"
      },
      "execution_count": null,
      "outputs": [
        {
          "output_type": "stream",
          "name": "stdout",
          "text": [
            "OrderedDict([('DIS', 0.14279), ('PYPL', 0.09657), ('SHOP', 0.08828), ('NFLX', 0.1103), ('GOOG', 0.12422), ('TSLA', 0.08586), ('AAPL', 0.11449), ('MSFT', 0.12257), ('AMZN', 0.11492)])\n"
          ]
        },
        {
          "output_type": "execute_result",
          "data": {
            "text/plain": [
              "<matplotlib.axes._subplots.AxesSubplot at 0x7f2a9e61f790>"
            ]
          },
          "metadata": {},
          "execution_count": 105
        },
        {
          "output_type": "display_data",
          "data": {
            "text/plain": [
              "<Figure size 720x720 with 1 Axes>"
            ],
            "image/png": "[encoded data removed]"
          },
          "metadata": {}
        }
      ]
    },
    {
      "cell_type": "code",
      "source": [
        ""
      ],
      "metadata": {
        "id": "UCn6dfxTfyen"
      },
      "execution_count": null,
      "outputs": []
    },
    {
      "cell_type": "code",
      "source": [
        "ef = EfficientFrontier(ret_bl, S_bl)\n",
        "ef.add_objective(objective_functions.L2_reg)\n",
        "ef.max_sharpe()\n",
        "ms_weights = ef.clean_weights()\n",
        "print(ms_weights)\n",
        "pd.Series(ms_weights).plot.pie(figsize=(10,10))\n",
        "# max sharpe allocation"
      ],
      "metadata": {
        "colab": {
          "base_uri": "https://localhost:8080/",
          "height": 664
        },
        "id": "B6F2AfJAi3-p",
        "outputId": "8ec5a51b-97af-40aa-acf2-656b956bd79b"
      },
      "execution_count": null,
      "outputs": [
        {
          "output_type": "stream",
          "name": "stdout",
          "text": [
            "OrderedDict([('DIS', 0.02888), ('PYPL', 0.10067), ('SHOP', 0.0), ('NFLX', 0.07336), ('GOOG', 0.12966), ('TSLA', 0.22724), ('AAPL', 0.16633), ('MSFT', 0.12379), ('AMZN', 0.15007)])\n"
          ]
        },
        {
          "output_type": "stream",
          "name": "stderr",
          "text": [
            "/usr/local/lib/python3.7/dist-packages/pypfopt/efficient_frontier/efficient_frontier.py:258: UserWarning: max_sharpe transforms the optimization problem so additional objectives may not work as expected.\n",
            "  \"max_sharpe transforms the optimization problem so additional objectives may not work as expected.\"\n"
          ]
        },
        {
          "output_type": "execute_result",
          "data": {
            "text/plain": [
              "<matplotlib.axes._subplots.AxesSubplot at 0x7f2a9e001cd0>"
            ]
          },
          "metadata": {},
          "execution_count": 57
        },
        {
          "output_type": "display_data",
          "data": {
            "text/plain": [
              "<Figure size 720x720 with 1 Axes>"
            ],
            "image/png": "[encoded data removed]"
          },
          "metadata": {}
        }
      ]
    },
    {
      "cell_type": "code",
      "source": [
        "ef = EfficientFrontier(ret_bl_rf, S_bl_rf)\n",
        "ef.add_objective(objective_functions.L2_reg)\n",
        "ef.max_sharpe()\n",
        "ms_rf_weights = ef.clean_weights()\n",
        "print(ms_rf_weights)\n",
        "pd.Series(ms_rf_weights).plot.pie(figsize=(10,10))\n",
        "# max sharpe allocation"
      ],
      "metadata": {
        "colab": {
          "base_uri": "https://localhost:8080/",
          "height": 664
        },
        "id": "XF2W6QIXfzas",
        "outputId": "cc4f3930-f4c7-4c15-feb3-42cbdf125761"
      },
      "execution_count": null,
      "outputs": [
        {
          "output_type": "stream",
          "name": "stdout",
          "text": [
            "OrderedDict([('DIS', 0.02021), ('PYPL', 0.08798), ('SHOP', 0.0628), ('NFLX', 0.04711), ('GOOG', 0.13339), ('TSLA', 0.20259), ('AAPL', 0.18597), ('MSFT', 0.12678), ('AMZN', 0.13317)])\n"
          ]
        },
        {
          "output_type": "stream",
          "name": "stderr",
          "text": [
            "/usr/local/lib/python3.7/dist-packages/pypfopt/efficient_frontier/efficient_frontier.py:258: UserWarning: max_sharpe transforms the optimization problem so additional objectives may not work as expected.\n",
            "  \"max_sharpe transforms the optimization problem so additional objectives may not work as expected.\"\n"
          ]
        },
        {
          "output_type": "execute_result",
          "data": {
            "text/plain": [
              "<matplotlib.axes._subplots.AxesSubplot at 0x7f2a9e0c0e90>"
            ]
          },
          "metadata": {},
          "execution_count": 106
        },
        {
          "output_type": "display_data",
          "data": {
            "text/plain": [
              "<Figure size 720x720 with 1 Axes>"
            ],
            "image/png": "[encoded data removed]"
          },
          "metadata": {}
        }
      ]
    },
    {
      "cell_type": "code",
      "source": [
        "from pypfopt import DiscreteAllocation"
      ],
      "metadata": {
        "id": "hZ_IkG9bjAnQ",
        "colab": {
          "base_uri": "https://localhost:8080/"
        },
        "outputId": "9cfaf53b-dfa9-42fe-e2a9-98392fb761de"
      },
      "execution_count": null,
      "outputs": [
        {
          "output_type": "stream",
          "name": "stdout",
          "text": [
            "Leftover: $12.65\n"
          ]
        },
        {
          "output_type": "execute_result",
          "data": {
            "text/plain": [
              "{'AAPL': 113,\n",
              " 'AMZN': 5,\n",
              " 'DIS': 16,\n",
              " 'GOOG': 5,\n",
              " 'MSFT': 42,\n",
              " 'NFLX': 13,\n",
              " 'PYPL': 37,\n",
              " 'TSLA': 32}"
            ]
          },
          "metadata": {},
          "execution_count": 31
        }
      ]
    },
    {
      "cell_type": "code",
      "source": [
        "da = DiscreteAllocation(ms_weights, portfolio.iloc[-1], total_portfolio_value=100000)\n",
        "alloc_ms, leftover = da.lp_portfolio()\n",
        "print(f\"Leftover: ${leftover:.2f}\")\n",
        "# alloc_ms\n",
        "\n",
        "da = DiscreteAllocation(mv_weights, portfolio.iloc[-1], total_portfolio_value=100000)\n",
        "alloc_mv, leftover = da.lp_portfolio()\n",
        "print(f\"Leftover: ${leftover:.2f}\")\n",
        "# alloc_mv\n",
        "\n",
        "da = DiscreteAllocation(ms_rf_weights, portfolio.iloc[-1], total_portfolio_value=100000)\n",
        "alloc_ms_rf, leftover = da.lp_portfolio()\n",
        "print(f\"Leftover: ${leftover:.2f}\")\n",
        "# alloc_ms\n",
        "\n",
        "da = DiscreteAllocation(mv_rf_weights, portfolio.iloc[-1], total_portfolio_value=100000)\n",
        "alloc_mv_rf, leftover = da.lp_portfolio()\n",
        "print(f\"Leftover: ${leftover:.2f}\")\n",
        "# alloc_mv"
      ],
      "metadata": {
        "colab": {
          "base_uri": "https://localhost:8080/"
        },
        "id": "Q_5YzipreNMa",
        "outputId": "99424a59-2c74-4d30-aabf-3e5bba979d0f"
      },
      "execution_count": null,
      "outputs": [
        {
          "output_type": "stream",
          "name": "stdout",
          "text": [
            "Leftover: $12.65\n",
            "Leftover: $36.54\n",
            "Leftover: $41.17\n",
            "Leftover: $36.54\n"
          ]
        }
      ]
    },
    {
      "cell_type": "code",
      "source": [
        "da = DiscreteAllocation(bl_weights, portfolio.iloc[-1], total_portfolio_value=100000)\n",
        "alloc_bl, leftover = da.lp_portfolio()\n",
        "print(f\"Leftover: ${leftover:.2f}\")\n",
        "# alloc_bl\n",
        "\n",
        "da = DiscreteAllocation(bl_rf_weights, portfolio.iloc[-1], total_portfolio_value=100000)\n",
        "alloc_bl_rf, leftover = da.lp_portfolio()\n",
        "print(f\"Leftover: ${leftover:.2f}\")\n",
        "# alloc_bl_rf"
      ],
      "metadata": {
        "colab": {
          "base_uri": "https://localhost:8080/"
        },
        "id": "XYTGU7lZgM8Y",
        "outputId": "68242ec8-6678-4c54-db2f-306340e11885"
      },
      "execution_count": null,
      "outputs": [
        {
          "output_type": "stream",
          "name": "stdout",
          "text": [
            "Leftover: $495.13\n",
            "Leftover: $221.67\n"
          ]
        }
      ]
    },
    {
      "cell_type": "code",
      "source": [
        ""
      ],
      "metadata": {
        "id": "e6xzxl7mHI_b"
      },
      "execution_count": null,
      "outputs": []
    },
    {
      "cell_type": "code",
      "source": [
        "portfolio_pr = pd.concat([v['Close'].iloc[-(test_size):] for v in stock_actual.values()], 1, keys = stock_actual.keys())"
      ],
      "metadata": {
        "colab": {
          "base_uri": "https://localhost:8080/"
        },
        "id": "tyP4I9Z87ZXH",
        "outputId": "77cda517-68d5-49d8-a6bf-212e2e025ba2"
      },
      "execution_count": null,
      "outputs": [
        {
          "output_type": "stream",
          "name": "stderr",
          "text": [
            "/usr/local/lib/python3.7/dist-packages/ipykernel_launcher.py:1: FutureWarning: In a future version of pandas all arguments of concat except for the argument 'objs' will be keyword-only\n",
            "  \"\"\"Entry point for launching an IPython kernel.\n"
          ]
        }
      ]
    },
    {
      "cell_type": "code",
      "source": [
        "def allocation_return(portfolio_pr, alloc):\n",
        "  pos_prices = pd.concat([portfolio_pr.iloc[[0,-1]].T, pd.DataFrame(alloc, index = [0]).T], 1)\n",
        "  pos_prices.columns = ['Price_start','Price_end', 'Allocation']\n",
        "  pos_prices['Pos_val_start'] = pos_prices['Price_start']*pos_prices['Allocation']\n",
        "  pos_prices['Pos_val_end'] = pos_prices['Price_end']*pos_prices['Allocation']\n",
        "  pos_prices['Pos_return'] = (pos_prices['Pos_val_end']-pos_prices['Pos_val_start'])/abs(pos_prices['Pos_val_start'])\n",
        "  return (pos_prices, (pos_prices['Pos_val_end'].sum()-pos_prices['Pos_val_start'].sum())/pos_prices['Pos_val_start'].sum())"
      ],
      "metadata": {
        "id": "o7YSkk1LB7Ge"
      },
      "execution_count": null,
      "outputs": []
    },
    {
      "cell_type": "code",
      "source": [
        "_, r_ms = allocation_return(portfolio_pr, alloc_ms)\n",
        "_, r_mv = allocation_return(portfolio_pr, alloc_mv)\n",
        "_, r_mv_rf = allocation_return(portfolio_pr, alloc_mv_rf)\n",
        "_, r_ms_rf = allocation_return(portfolio_pr, alloc_ms_rf)\n",
        "\n",
        "p_pl, r_bl = allocation_return(portfolio_pr, alloc_bl)\n",
        "p_pl_rf, r_bl_rf = allocation_return(portfolio_pr, alloc_bl_rf)"
      ],
      "metadata": {
        "colab": {
          "base_uri": "https://localhost:8080/"
        },
        "id": "WKnj4k1wEgsJ",
        "outputId": "bb275850-02d2-4a37-bf85-0c83d855ce6d"
      },
      "execution_count": null,
      "outputs": [
        {
          "output_type": "stream",
          "name": "stderr",
          "text": [
            "/usr/local/lib/python3.7/dist-packages/ipykernel_launcher.py:2: FutureWarning: In a future version of pandas all arguments of concat except for the argument 'objs' will be keyword-only\n",
            "  \n"
          ]
        }
      ]
    },
    {
      "cell_type": "code",
      "source": [
        ""
      ],
      "metadata": {
        "id": "HUwfT7VEhI1n"
      },
      "execution_count": null,
      "outputs": []
    },
    {
      "cell_type": "code",
      "source": [
        "print(\"Min_vol (bl+bilstm/rf) portfolio return\", round(r_mv*100, 3), \"%\\n\")\n",
        "\n",
        "print(\"Max_sharpe (bl+bilstm) portfolio return\", round(r_ms*100, 3), \"%\\n\")\n",
        "print(\"Max_sharpe (bl+rf) portfolio return\", round(r_ms_rf*100, 3), \"%\\n\")"
      ],
      "metadata": {
        "colab": {
          "base_uri": "https://localhost:8080/"
        },
        "id": "b7eNB084FKBn",
        "outputId": "32410057-6277-4258-a5e4-df76ec7e5e2e"
      },
      "execution_count": null,
      "outputs": [
        {
          "output_type": "stream",
          "name": "stdout",
          "text": [
            "Min_vol (bl+bilstm/rf) portfolio return 0.301 %\n",
            "\n",
            "Max_sharpe (bl+bilstm) portfolio return 2.59 %\n",
            "\n",
            "Max_sharpe (bl+rf) portfolio return 1.543 %\n",
            "\n"
          ]
        }
      ]
    },
    {
      "cell_type": "code",
      "source": [
        "print(\"black litterman allocation portfolio return (bilstm prediction)\", round(r_bl*100, 3), \"%\\n\")\n",
        "print(\"black litterman allocation portfolio return (rf prediction)\", round(r_bl_rf*100, 3), \"%\\n\")"
      ],
      "metadata": {
        "colab": {
          "base_uri": "https://localhost:8080/"
        },
        "id": "4pMCXxKeezKy",
        "outputId": "034ffea7-70b8-46eb-e9fa-142de3162d05"
      },
      "execution_count": null,
      "outputs": [
        {
          "output_type": "stream",
          "name": "stdout",
          "text": [
            "black litterman allocation portfolio return (bilstm prediction) 2.289 %\n",
            "\n",
            "black litterman allocation portfolio return (rf prediction) -2.27 %\n",
            "\n"
          ]
        }
      ]
    },
    {
      "cell_type": "code",
      "source": [
        ""
      ],
      "metadata": {
        "id": "kIIaeQ0ufJJS"
      },
      "execution_count": null,
      "outputs": []
    },
    {
      "cell_type": "code",
      "source": [
        "(p_pl['Pos_val_end'] - p_pl['Pos_val_start'])/abs(p_pl['Pos_val_start'])"
      ],
      "metadata": {
        "colab": {
          "base_uri": "https://localhost:8080/"
        },
        "id": "FwHji-70aHPD",
        "outputId": "77cdfbd9-a008-42bd-bfb1-5a6a13b3b65e"
      },
      "execution_count": null,
      "outputs": [
        {
          "output_type": "execute_result",
          "data": {
            "text/plain": [
              "DIS    -0.023550\n",
              "PYPL    0.038325\n",
              "SHOP    0.075254\n",
              "NFLX   -0.122547\n",
              "GOOG   -0.026645\n",
              "TSLA    0.151469\n",
              "AAPL   -0.035446\n",
              "MSFT   -0.050039\n",
              "AMZN    0.030520\n",
              "dtype: float64"
            ]
          },
          "metadata": {},
          "execution_count": 79
        }
      ]
    },
    {
      "cell_type": "markdown",
      "source": [
        "The portfolio had a net positive return over a period of 30 days. However, the low returns can be attributed to the federal reserve tightening rates during the given period to combat inflation resulting from 2 years of quantitative easing during the COVID pandemic."
      ],
      "metadata": {
        "id": "kTHSncbaIw9H"
      }
    },
    {
      "cell_type": "code",
      "source": [
        "p_pl"
      ],
      "metadata": {
        "id": "E9uxcGswGnaE",
        "colab": {
          "base_uri": "https://localhost:8080/",
          "height": 332
        },
        "outputId": "07026c22-7668-4e61-c639-aba56be5111b"
      },
      "execution_count": null,
      "outputs": [
        {
          "output_type": "execute_result",
          "data": {
            "text/plain": [
              "      Price_start    Price_end  Allocation  Pos_val_start   Pos_val_end  \\\n",
              "DIS    173.250000   169.169998           4     693.000000    676.679993   \n",
              "PYPL   270.579987   260.209991         -15   -4058.699799  -3903.149872   \n",
              "SHOP  1466.109985  1355.780029         -13  -19059.429810 -17625.140381   \n",
              "NFLX   543.710022   610.340027          -8   -4349.680176  -4882.720215   \n",
              "GOOG  2738.270020  2665.310059           6   16429.620117  15991.860352   \n",
              "TSLA   673.469971   775.479980          19   12795.929443  14734.119629   \n",
              "AAPL   146.699997   141.500000         149   21858.299545  21083.500000   \n",
              "MSFT   296.769989   281.920013          66   19586.819275  18606.720886   \n",
              "AMZN  3187.750000  3285.040039           9   28689.750000  29565.360352   \n",
              "\n",
              "      Pos_return  \n",
              "DIS    -0.023550  \n",
              "PYPL   -0.038325  \n",
              "SHOP   -0.075254  \n",
              "NFLX    0.122547  \n",
              "GOOG   -0.026645  \n",
              "TSLA    0.151469  \n",
              "AAPL   -0.035446  \n",
              "MSFT   -0.050039  \n",
              "AMZN    0.030520  "
            ],
            "text/html": [
              "\n",
              "  <div id=\"df-8d8c1dfa-28a7-436a-ab4f-7642f194acd6\">\n",
              "    <div class=\"colab-df-container\">\n",
              "      <div>\n",
              "<style scoped>\n",
              "    .dataframe tbody tr th:only-of-type {\n",
              "        vertical-align: middle;\n",
              "    }\n",
              "\n",
              "    .dataframe tbody tr th {\n",
              "        vertical-align: top;\n",
              "    }\n",
              "\n",
              "    .dataframe thead th {\n",
              "        text-align: right;\n",
              "    }\n",
              "</style>\n",
              "<table border=\"1\" class=\"dataframe\">\n",
              "  <thead>\n",
              "    <tr style=\"text-align: right;\">\n",
              "      <th></th>\n",
              "      <th>Price_start</th>\n",
              "      <th>Price_end</th>\n",
              "      <th>Allocation</th>\n",
              "      <th>Pos_val_start</th>\n",
              "      <th>Pos_val_end</th>\n",
              "      <th>Pos_return</th>\n",
              "    </tr>\n",
              "  </thead>\n",
              "  <tbody>\n",
              "    <tr>\n",
              "      <th>DIS</th>\n",
              "      <td>173.250000</td>\n",
              "      <td>169.169998</td>\n",
              "      <td>4</td>\n",
              "      <td>693.000000</td>\n",
              "      <td>676.679993</td>\n",
              "      <td>-0.023550</td>\n",
              "    </tr>\n",
              "    <tr>\n",
              "      <th>PYPL</th>\n",
              "      <td>270.579987</td>\n",
              "      <td>260.209991</td>\n",
              "      <td>-15</td>\n",
              "      <td>-4058.699799</td>\n",
              "      <td>-3903.149872</td>\n",
              "      <td>-0.038325</td>\n",
              "    </tr>\n",
              "    <tr>\n",
              "      <th>SHOP</th>\n",
              "      <td>1466.109985</td>\n",
              "      <td>1355.780029</td>\n",
              "      <td>-13</td>\n",
              "      <td>-19059.429810</td>\n",
              "      <td>-17625.140381</td>\n",
              "      <td>-0.075254</td>\n",
              "    </tr>\n",
              "    <tr>\n",
              "      <th>NFLX</th>\n",
              "      <td>543.710022</td>\n",
              "      <td>610.340027</td>\n",
              "      <td>-8</td>\n",
              "      <td>-4349.680176</td>\n",
              "      <td>-4882.720215</td>\n",
              "      <td>0.122547</td>\n",
              "    </tr>\n",
              "    <tr>\n",
              "      <th>GOOG</th>\n",
              "      <td>2738.270020</td>\n",
              "      <td>2665.310059</td>\n",
              "      <td>6</td>\n",
              "      <td>16429.620117</td>\n",
              "      <td>15991.860352</td>\n",
              "      <td>-0.026645</td>\n",
              "    </tr>\n",
              "    <tr>\n",
              "      <th>TSLA</th>\n",
              "      <td>673.469971</td>\n",
              "      <td>775.479980</td>\n",
              "      <td>19</td>\n",
              "      <td>12795.929443</td>\n",
              "      <td>14734.119629</td>\n",
              "      <td>0.151469</td>\n",
              "    </tr>\n",
              "    <tr>\n",
              "      <th>AAPL</th>\n",
              "      <td>146.699997</td>\n",
              "      <td>141.500000</td>\n",
              "      <td>149</td>\n",
              "      <td>21858.299545</td>\n",
              "      <td>21083.500000</td>\n",
              "      <td>-0.035446</td>\n",
              "    </tr>\n",
              "    <tr>\n",
              "      <th>MSFT</th>\n",
              "      <td>296.769989</td>\n",
              "      <td>281.920013</td>\n",
              "      <td>66</td>\n",
              "      <td>19586.819275</td>\n",
              "      <td>18606.720886</td>\n",
              "      <td>-0.050039</td>\n",
              "    </tr>\n",
              "    <tr>\n",
              "      <th>AMZN</th>\n",
              "      <td>3187.750000</td>\n",
              "      <td>3285.040039</td>\n",
              "      <td>9</td>\n",
              "      <td>28689.750000</td>\n",
              "      <td>29565.360352</td>\n",
              "      <td>0.030520</td>\n",
              "    </tr>\n",
              "  </tbody>\n",
              "</table>\n",
              "</div>\n",
              "      <button class=\"colab-df-convert\" onclick=\"convertToInteractive('df-8d8c1dfa-28a7-436a-ab4f-7642f194acd6')\"\n",
              "              title=\"Convert this dataframe to an interactive table.\"\n",
              "              style=\"display:none;\">\n",
              "        \n",
              "  <svg xmlns=\"http://www.w3.org/2000/svg\" height=\"24px\"viewBox=\"0 0 24 24\"\n",
              "       width=\"24px\">\n",
              "    <path d=\"M0 0h24v24H0V0z\" fill=\"none\"/>\n",
              "    <path d=\"M18.56 5.44l.94 2.06.94-2.06 2.06-.94-2.06-.94-.94-2.06-.94 2.06-2.06.94zm-11 1L8.5 8.5l.94-2.06 2.06-.94-2.06-.94L8.5 2.5l-.94 2.06-2.06.94zm10 10l.94 2.06.94-2.06 2.06-.94-2.06-.94-.94-2.06-.94 2.06-2.06.94z\"/><path d=\"M17.41 7.96l-1.37-1.37c-.4-.4-.92-.59-1.43-.59-.52 0-1.04.2-1.43.59L10.3 9.45l-7.72 7.72c-.78.78-.78 2.05 0 2.83L4 21.41c.39.39.9.59 1.41.59.51 0 1.02-.2 1.41-.59l7.78-7.78 2.81-2.81c.8-.78.8-2.07 0-2.86zM5.41 20L4 18.59l7.72-7.72 1.47 1.35L5.41 20z\"/>\n",
              "  </svg>\n",
              "      </button>\n",
              "      \n",
              "  <style>\n",
              "    .colab-df-container {\n",
              "      display:flex;\n",
              "      flex-wrap:wrap;\n",
              "      gap: 12px;\n",
              "    }\n",
              "\n",
              "    .colab-df-convert {\n",
              "      background-color: #E8F0FE;\n",
              "      border: none;\n",
              "      border-radius: 50%;\n",
              "      cursor: pointer;\n",
              "      display: none;\n",
              "      fill: #1967D2;\n",
              "      height: 32px;\n",
              "      padding: 0 0 0 0;\n",
              "      width: 32px;\n",
              "    }\n",
              "\n",
              "    .colab-df-convert:hover {\n",
              "      background-color: #E2EBFA;\n",
              "      box-shadow: 0px 1px 2px rgba(60, 64, 67, 0.3), 0px 1px 3px 1px rgba(60, 64, 67, 0.15);\n",
              "      fill: #174EA6;\n",
              "    }\n",
              "\n",
              "    [theme=dark] .colab-df-convert {\n",
              "      background-color: #3B4455;\n",
              "      fill: #D2E3FC;\n",
              "    }\n",
              "\n",
              "    [theme=dark] .colab-df-convert:hover {\n",
              "      background-color: #434B5C;\n",
              "      box-shadow: 0px 1px 3px 1px rgba(0, 0, 0, 0.15);\n",
              "      filter: drop-shadow(0px 1px 2px rgba(0, 0, 0, 0.3));\n",
              "      fill: #FFFFFF;\n",
              "    }\n",
              "  </style>\n",
              "\n",
              "      <script>\n",
              "        const buttonEl =\n",
              "          document.querySelector('#df-8d8c1dfa-28a7-436a-ab4f-7642f194acd6 button.colab-df-convert');\n",
              "        buttonEl.style.display =\n",
              "          google.colab.kernel.accessAllowed ? 'block' : 'none';\n",
              "\n",
              "        async function convertToInteractive(key) {\n",
              "          const element = document.querySelector('#df-8d8c1dfa-28a7-436a-ab4f-7642f194acd6');\n",
              "          const dataTable =\n",
              "            await google.colab.kernel.invokeFunction('convertToInteractive',\n",
              "                                                     [key], {});\n",
              "          if (!dataTable) return;\n",
              "\n",
              "          const docLinkHtml = 'Like what you see? Visit the ' +\n",
              "            '<a target=\"_blank\" href=https://colab.research.google.com/notebooks/data_table.ipynb>data table notebook</a>'\n",
              "            + ' to learn more about interactive tables.';\n",
              "          element.innerHTML = '';\n",
              "          dataTable['output_type'] = 'display_data';\n",
              "          await google.colab.output.renderOutput(dataTable, element);\n",
              "          const docLink = document.createElement('div');\n",
              "          docLink.innerHTML = docLinkHtml;\n",
              "          element.appendChild(docLink);\n",
              "        }\n",
              "      </script>\n",
              "    </div>\n",
              "  </div>\n",
              "  "
            ]
          },
          "metadata": {},
          "execution_count": 77
        }
      ]
    },
    {
      "cell_type": "code",
      "source": [
        ""
      ],
      "metadata": {
        "id": "_qhVHwZWI7nB"
      },
      "execution_count": null,
      "outputs": []
    }
  ]
}